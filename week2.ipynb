{
 "cells": [
  {
   "cell_type": "code",
   "execution_count": 27,
   "id": "7422bf3e-869d-40a8-8e09-53a9817b5d7e",
   "metadata": {},
   "outputs": [],
   "source": [
    "import pandas as pd\n",
    "import statsmodels.formula.api as smf\n",
    "import numpy as np"
   ]
  },
  {
   "cell_type": "code",
   "execution_count": 28,
   "id": "6f32d19d-5988-4793-84c0-28633b51bacd",
   "metadata": {},
   "outputs": [],
   "source": [
    "df = pd.read_csv(\"https://raw.githubusercontent.com/amandeep0/IS451/main/data/Wine.csv\")"
   ]
  },
  {
   "cell_type": "code",
   "execution_count": 29,
   "id": "a8c3118d-926b-4c8d-9a05-73b81bda5f96",
   "metadata": {},
   "outputs": [
    {
     "data": {
      "text/html": [
       "<div>\n",
       "<style scoped>\n",
       "    .dataframe tbody tr th:only-of-type {\n",
       "        vertical-align: middle;\n",
       "    }\n",
       "\n",
       "    .dataframe tbody tr th {\n",
       "        vertical-align: top;\n",
       "    }\n",
       "\n",
       "    .dataframe thead th {\n",
       "        text-align: right;\n",
       "    }\n",
       "</style>\n",
       "<table border=\"1\" class=\"dataframe\">\n",
       "  <thead>\n",
       "    <tr style=\"text-align: right;\">\n",
       "      <th></th>\n",
       "      <th>Year</th>\n",
       "      <th>Price</th>\n",
       "      <th>WinterRain</th>\n",
       "      <th>AGST</th>\n",
       "      <th>HarvestRain</th>\n",
       "      <th>Age</th>\n",
       "      <th>FrancePop</th>\n",
       "    </tr>\n",
       "  </thead>\n",
       "  <tbody>\n",
       "    <tr>\n",
       "      <th>0</th>\n",
       "      <td>1952</td>\n",
       "      <td>7.4950</td>\n",
       "      <td>600</td>\n",
       "      <td>17.1167</td>\n",
       "      <td>160</td>\n",
       "      <td>31</td>\n",
       "      <td>43183.569</td>\n",
       "    </tr>\n",
       "    <tr>\n",
       "      <th>1</th>\n",
       "      <td>1953</td>\n",
       "      <td>8.0393</td>\n",
       "      <td>690</td>\n",
       "      <td>16.7333</td>\n",
       "      <td>80</td>\n",
       "      <td>30</td>\n",
       "      <td>43495.030</td>\n",
       "    </tr>\n",
       "    <tr>\n",
       "      <th>2</th>\n",
       "      <td>1955</td>\n",
       "      <td>7.6858</td>\n",
       "      <td>502</td>\n",
       "      <td>17.1500</td>\n",
       "      <td>130</td>\n",
       "      <td>28</td>\n",
       "      <td>44217.857</td>\n",
       "    </tr>\n",
       "    <tr>\n",
       "      <th>3</th>\n",
       "      <td>1957</td>\n",
       "      <td>6.9845</td>\n",
       "      <td>420</td>\n",
       "      <td>16.1333</td>\n",
       "      <td>110</td>\n",
       "      <td>26</td>\n",
       "      <td>45152.252</td>\n",
       "    </tr>\n",
       "    <tr>\n",
       "      <th>4</th>\n",
       "      <td>1958</td>\n",
       "      <td>6.7772</td>\n",
       "      <td>582</td>\n",
       "      <td>16.4167</td>\n",
       "      <td>187</td>\n",
       "      <td>25</td>\n",
       "      <td>45653.805</td>\n",
       "    </tr>\n",
       "  </tbody>\n",
       "</table>\n",
       "</div>"
      ],
      "text/plain": [
       "   Year   Price  WinterRain     AGST  HarvestRain  Age  FrancePop\n",
       "0  1952  7.4950         600  17.1167          160   31  43183.569\n",
       "1  1953  8.0393         690  16.7333           80   30  43495.030\n",
       "2  1955  7.6858         502  17.1500          130   28  44217.857\n",
       "3  1957  6.9845         420  16.1333          110   26  45152.252\n",
       "4  1958  6.7772         582  16.4167          187   25  45653.805"
      ]
     },
     "execution_count": 29,
     "metadata": {},
     "output_type": "execute_result"
    }
   ],
   "source": [
    "df.head()"
   ]
  },
  {
   "cell_type": "code",
   "execution_count": 30,
   "id": "6bd6281e-8cb4-42c4-9d68-fe759c181a20",
   "metadata": {},
   "outputs": [],
   "source": [
    "columns = list(df.keys())"
   ]
  },
  {
   "cell_type": "code",
   "execution_count": 31,
   "id": "3651920a-37e5-474c-a1b0-1519dc664078",
   "metadata": {},
   "outputs": [],
   "source": [
    "linear_regression = smf.ols(\"Price ~ AGST\", data=df)\n",
    "linear_regression_results = linear_regression.fit()"
   ]
  },
  {
   "cell_type": "code",
   "execution_count": 32,
   "id": "147a527d-6f0d-4c0a-99dd-4ee0fa1c79f3",
   "metadata": {},
   "outputs": [
    {
     "data": {
      "text/html": [
       "<table class=\"simpletable\">\n",
       "<caption>OLS Regression Results</caption>\n",
       "<tr>\n",
       "  <th>Dep. Variable:</th>          <td>Price</td>      <th>  R-squared:         </th> <td>   0.435</td>\n",
       "</tr>\n",
       "<tr>\n",
       "  <th>Model:</th>                   <td>OLS</td>       <th>  Adj. R-squared:    </th> <td>   0.410</td>\n",
       "</tr>\n",
       "<tr>\n",
       "  <th>Method:</th>             <td>Least Squares</td>  <th>  F-statistic:       </th> <td>   17.71</td>\n",
       "</tr>\n",
       "<tr>\n",
       "  <th>Date:</th>             <td>Sat, 21 Oct 2023</td> <th>  Prob (F-statistic):</th> <td>0.000335</td>\n",
       "</tr>\n",
       "<tr>\n",
       "  <th>Time:</th>                 <td>09:55:23</td>     <th>  Log-Likelihood:    </th> <td> -17.070</td>\n",
       "</tr>\n",
       "<tr>\n",
       "  <th>No. Observations:</th>      <td>    25</td>      <th>  AIC:               </th> <td>   38.14</td>\n",
       "</tr>\n",
       "<tr>\n",
       "  <th>Df Residuals:</th>          <td>    23</td>      <th>  BIC:               </th> <td>   40.58</td>\n",
       "</tr>\n",
       "<tr>\n",
       "  <th>Df Model:</th>              <td>     1</td>      <th>                     </th>     <td> </td>   \n",
       "</tr>\n",
       "<tr>\n",
       "  <th>Covariance Type:</th>      <td>nonrobust</td>    <th>                     </th>     <td> </td>   \n",
       "</tr>\n",
       "</table>\n",
       "<table class=\"simpletable\">\n",
       "<tr>\n",
       "      <td></td>         <th>coef</th>     <th>std err</th>      <th>t</th>      <th>P>|t|</th>  <th>[0.025</th>    <th>0.975]</th>  \n",
       "</tr>\n",
       "<tr>\n",
       "  <th>Intercept</th> <td>   -3.4178</td> <td>    2.494</td> <td>   -1.371</td> <td> 0.184</td> <td>   -8.576</td> <td>    1.740</td>\n",
       "</tr>\n",
       "<tr>\n",
       "  <th>AGST</th>      <td>    0.6351</td> <td>    0.151</td> <td>    4.208</td> <td> 0.000</td> <td>    0.323</td> <td>    0.947</td>\n",
       "</tr>\n",
       "</table>\n",
       "<table class=\"simpletable\">\n",
       "<tr>\n",
       "  <th>Omnibus:</th>       <td> 0.986</td> <th>  Durbin-Watson:     </th> <td>   1.758</td>\n",
       "</tr>\n",
       "<tr>\n",
       "  <th>Prob(Omnibus):</th> <td> 0.611</td> <th>  Jarque-Bera (JB):  </th> <td>   0.790</td>\n",
       "</tr>\n",
       "<tr>\n",
       "  <th>Skew:</th>          <td> 0.055</td> <th>  Prob(JB):          </th> <td>   0.674</td>\n",
       "</tr>\n",
       "<tr>\n",
       "  <th>Kurtosis:</th>      <td> 2.136</td> <th>  Cond. No.          </th> <td>    414.</td>\n",
       "</tr>\n",
       "</table><br/><br/>Notes:<br/>[1] Standard Errors assume that the covariance matrix of the errors is correctly specified."
      ],
      "text/latex": [
       "\\begin{center}\n",
       "\\begin{tabular}{lclc}\n",
       "\\toprule\n",
       "\\textbf{Dep. Variable:}    &      Price       & \\textbf{  R-squared:         } &     0.435   \\\\\n",
       "\\textbf{Model:}            &       OLS        & \\textbf{  Adj. R-squared:    } &     0.410   \\\\\n",
       "\\textbf{Method:}           &  Least Squares   & \\textbf{  F-statistic:       } &     17.71   \\\\\n",
       "\\textbf{Date:}             & Sat, 21 Oct 2023 & \\textbf{  Prob (F-statistic):} &  0.000335   \\\\\n",
       "\\textbf{Time:}             &     09:55:23     & \\textbf{  Log-Likelihood:    } &   -17.070   \\\\\n",
       "\\textbf{No. Observations:} &          25      & \\textbf{  AIC:               } &     38.14   \\\\\n",
       "\\textbf{Df Residuals:}     &          23      & \\textbf{  BIC:               } &     40.58   \\\\\n",
       "\\textbf{Df Model:}         &           1      & \\textbf{                     } &             \\\\\n",
       "\\textbf{Covariance Type:}  &    nonrobust     & \\textbf{                     } &             \\\\\n",
       "\\bottomrule\n",
       "\\end{tabular}\n",
       "\\begin{tabular}{lcccccc}\n",
       "                   & \\textbf{coef} & \\textbf{std err} & \\textbf{t} & \\textbf{P$> |$t$|$} & \\textbf{[0.025} & \\textbf{0.975]}  \\\\\n",
       "\\midrule\n",
       "\\textbf{Intercept} &      -3.4178  &        2.494     &    -1.371  &         0.184        &       -8.576    &        1.740     \\\\\n",
       "\\textbf{AGST}      &       0.6351  &        0.151     &     4.208  &         0.000        &        0.323    &        0.947     \\\\\n",
       "\\bottomrule\n",
       "\\end{tabular}\n",
       "\\begin{tabular}{lclc}\n",
       "\\textbf{Omnibus:}       &  0.986 & \\textbf{  Durbin-Watson:     } &    1.758  \\\\\n",
       "\\textbf{Prob(Omnibus):} &  0.611 & \\textbf{  Jarque-Bera (JB):  } &    0.790  \\\\\n",
       "\\textbf{Skew:}          &  0.055 & \\textbf{  Prob(JB):          } &    0.674  \\\\\n",
       "\\textbf{Kurtosis:}      &  2.136 & \\textbf{  Cond. No.          } &     414.  \\\\\n",
       "\\bottomrule\n",
       "\\end{tabular}\n",
       "%\\caption{OLS Regression Results}\n",
       "\\end{center}\n",
       "\n",
       "Notes: \\newline\n",
       " [1] Standard Errors assume that the covariance matrix of the errors is correctly specified."
      ],
      "text/plain": [
       "<class 'statsmodels.iolib.summary.Summary'>\n",
       "\"\"\"\n",
       "                            OLS Regression Results                            \n",
       "==============================================================================\n",
       "Dep. Variable:                  Price   R-squared:                       0.435\n",
       "Model:                            OLS   Adj. R-squared:                  0.410\n",
       "Method:                 Least Squares   F-statistic:                     17.71\n",
       "Date:                Sat, 21 Oct 2023   Prob (F-statistic):           0.000335\n",
       "Time:                        09:55:23   Log-Likelihood:                -17.070\n",
       "No. Observations:                  25   AIC:                             38.14\n",
       "Df Residuals:                      23   BIC:                             40.58\n",
       "Df Model:                           1                                         \n",
       "Covariance Type:            nonrobust                                         \n",
       "==============================================================================\n",
       "                 coef    std err          t      P>|t|      [0.025      0.975]\n",
       "------------------------------------------------------------------------------\n",
       "Intercept     -3.4178      2.494     -1.371      0.184      -8.576       1.740\n",
       "AGST           0.6351      0.151      4.208      0.000       0.323       0.947\n",
       "==============================================================================\n",
       "Omnibus:                        0.986   Durbin-Watson:                   1.758\n",
       "Prob(Omnibus):                  0.611   Jarque-Bera (JB):                0.790\n",
       "Skew:                           0.055   Prob(JB):                        0.674\n",
       "Kurtosis:                       2.136   Cond. No.                         414.\n",
       "==============================================================================\n",
       "\n",
       "Notes:\n",
       "[1] Standard Errors assume that the covariance matrix of the errors is correctly specified.\n",
       "\"\"\""
      ]
     },
     "execution_count": 32,
     "metadata": {},
     "output_type": "execute_result"
    }
   ],
   "source": [
    "linear_regression_results.summary()"
   ]
  },
  {
   "cell_type": "markdown",
   "id": "39d578cd-ba21-4de3-b699-1c78a944f68f",
   "metadata": {},
   "source": [
    "R^2 is how well the model is doing compare to baseline model (the avg of the dataset)\n",
    "\n",
    "SSE is the error for regression estimator, SST is the error for avg baseline estimator\n",
    "\n",
    "it only has value when SSE is lower than SST.\n",
    "\n",
    "**Disadvantages of R^2**\n",
    "\n",
    "It depends on the context, R^2 is a relative value depends on context.\n",
    "If the baseline is already very good for a certain context, or if the baseline for a certain context is very bad, the R^2 will be different"
   ]
  },
  {
   "cell_type": "markdown",
   "id": "2bf6b8ad-e2cc-41a0-821a-a6daf1c5b8d6",
   "metadata": {},
   "source": [
    "**p values and hypothesis testing**\n",
    "\n",
    "does the feature affect what we want to predict,\n",
    "normally we want to be 95% confident that the variable matters.\n",
    "\n",
    "```\n",
    "1 - P>|t| = some percentage\n",
    "1 - 0.05 = 95% confident that the variable matters\n",
    "```\n"
   ]
  },
  {
   "cell_type": "code",
   "execution_count": 33,
   "id": "4021d106-e87a-4624-bb3d-e9f371805445",
   "metadata": {},
   "outputs": [
    {
     "data": {
      "text/html": [
       "<table class=\"simpletable\">\n",
       "<caption>OLS Regression Results</caption>\n",
       "<tr>\n",
       "  <th>Dep. Variable:</th>          <td>Price</td>      <th>  R-squared:         </th> <td>   0.317</td>\n",
       "</tr>\n",
       "<tr>\n",
       "  <th>Model:</th>                   <td>OLS</td>       <th>  Adj. R-squared:    </th> <td>   0.288</td>\n",
       "</tr>\n",
       "<tr>\n",
       "  <th>Method:</th>             <td>Least Squares</td>  <th>  F-statistic:       </th> <td>   10.69</td>\n",
       "</tr>\n",
       "<tr>\n",
       "  <th>Date:</th>             <td>Sat, 21 Oct 2023</td> <th>  Prob (F-statistic):</th>  <td>0.00337</td>\n",
       "</tr>\n",
       "<tr>\n",
       "  <th>Time:</th>                 <td>09:55:23</td>     <th>  Log-Likelihood:    </th> <td> -19.435</td>\n",
       "</tr>\n",
       "<tr>\n",
       "  <th>No. Observations:</th>      <td>    25</td>      <th>  AIC:               </th> <td>   42.87</td>\n",
       "</tr>\n",
       "<tr>\n",
       "  <th>Df Residuals:</th>          <td>    23</td>      <th>  BIC:               </th> <td>   45.31</td>\n",
       "</tr>\n",
       "<tr>\n",
       "  <th>Df Model:</th>              <td>     1</td>      <th>                     </th>     <td> </td>   \n",
       "</tr>\n",
       "<tr>\n",
       "  <th>Covariance Type:</th>      <td>nonrobust</td>    <th>                     </th>     <td> </td>   \n",
       "</tr>\n",
       "</table>\n",
       "<table class=\"simpletable\">\n",
       "<tr>\n",
       "       <td></td>          <th>coef</th>     <th>std err</th>      <th>t</th>      <th>P>|t|</th>  <th>[0.025</th>    <th>0.975]</th>  \n",
       "</tr>\n",
       "<tr>\n",
       "  <th>Intercept</th>   <td>    7.7986</td> <td>    0.249</td> <td>   31.300</td> <td> 0.000</td> <td>    7.283</td> <td>    8.314</td>\n",
       "</tr>\n",
       "<tr>\n",
       "  <th>HarvestRain</th> <td>   -0.0049</td> <td>    0.002</td> <td>   -3.270</td> <td> 0.003</td> <td>   -0.008</td> <td>   -0.002</td>\n",
       "</tr>\n",
       "</table>\n",
       "<table class=\"simpletable\">\n",
       "<tr>\n",
       "  <th>Omnibus:</th>       <td> 0.269</td> <th>  Durbin-Watson:     </th> <td>   1.651</td>\n",
       "</tr>\n",
       "<tr>\n",
       "  <th>Prob(Omnibus):</th> <td> 0.874</td> <th>  Jarque-Bera (JB):  </th> <td>   0.200</td>\n",
       "</tr>\n",
       "<tr>\n",
       "  <th>Skew:</th>          <td> 0.188</td> <th>  Prob(JB):          </th> <td>   0.905</td>\n",
       "</tr>\n",
       "<tr>\n",
       "  <th>Kurtosis:</th>      <td> 2.776</td> <th>  Cond. No.          </th> <td>    376.</td>\n",
       "</tr>\n",
       "</table><br/><br/>Notes:<br/>[1] Standard Errors assume that the covariance matrix of the errors is correctly specified."
      ],
      "text/latex": [
       "\\begin{center}\n",
       "\\begin{tabular}{lclc}\n",
       "\\toprule\n",
       "\\textbf{Dep. Variable:}    &      Price       & \\textbf{  R-squared:         } &     0.317   \\\\\n",
       "\\textbf{Model:}            &       OLS        & \\textbf{  Adj. R-squared:    } &     0.288   \\\\\n",
       "\\textbf{Method:}           &  Least Squares   & \\textbf{  F-statistic:       } &     10.69   \\\\\n",
       "\\textbf{Date:}             & Sat, 21 Oct 2023 & \\textbf{  Prob (F-statistic):} &  0.00337    \\\\\n",
       "\\textbf{Time:}             &     09:55:23     & \\textbf{  Log-Likelihood:    } &   -19.435   \\\\\n",
       "\\textbf{No. Observations:} &          25      & \\textbf{  AIC:               } &     42.87   \\\\\n",
       "\\textbf{Df Residuals:}     &          23      & \\textbf{  BIC:               } &     45.31   \\\\\n",
       "\\textbf{Df Model:}         &           1      & \\textbf{                     } &             \\\\\n",
       "\\textbf{Covariance Type:}  &    nonrobust     & \\textbf{                     } &             \\\\\n",
       "\\bottomrule\n",
       "\\end{tabular}\n",
       "\\begin{tabular}{lcccccc}\n",
       "                     & \\textbf{coef} & \\textbf{std err} & \\textbf{t} & \\textbf{P$> |$t$|$} & \\textbf{[0.025} & \\textbf{0.975]}  \\\\\n",
       "\\midrule\n",
       "\\textbf{Intercept}   &       7.7986  &        0.249     &    31.300  &         0.000        &        7.283    &        8.314     \\\\\n",
       "\\textbf{HarvestRain} &      -0.0049  &        0.002     &    -3.270  &         0.003        &       -0.008    &       -0.002     \\\\\n",
       "\\bottomrule\n",
       "\\end{tabular}\n",
       "\\begin{tabular}{lclc}\n",
       "\\textbf{Omnibus:}       &  0.269 & \\textbf{  Durbin-Watson:     } &    1.651  \\\\\n",
       "\\textbf{Prob(Omnibus):} &  0.874 & \\textbf{  Jarque-Bera (JB):  } &    0.200  \\\\\n",
       "\\textbf{Skew:}          &  0.188 & \\textbf{  Prob(JB):          } &    0.905  \\\\\n",
       "\\textbf{Kurtosis:}      &  2.776 & \\textbf{  Cond. No.          } &     376.  \\\\\n",
       "\\bottomrule\n",
       "\\end{tabular}\n",
       "%\\caption{OLS Regression Results}\n",
       "\\end{center}\n",
       "\n",
       "Notes: \\newline\n",
       " [1] Standard Errors assume that the covariance matrix of the errors is correctly specified."
      ],
      "text/plain": [
       "<class 'statsmodels.iolib.summary.Summary'>\n",
       "\"\"\"\n",
       "                            OLS Regression Results                            \n",
       "==============================================================================\n",
       "Dep. Variable:                  Price   R-squared:                       0.317\n",
       "Model:                            OLS   Adj. R-squared:                  0.288\n",
       "Method:                 Least Squares   F-statistic:                     10.69\n",
       "Date:                Sat, 21 Oct 2023   Prob (F-statistic):            0.00337\n",
       "Time:                        09:55:23   Log-Likelihood:                -19.435\n",
       "No. Observations:                  25   AIC:                             42.87\n",
       "Df Residuals:                      23   BIC:                             45.31\n",
       "Df Model:                           1                                         \n",
       "Covariance Type:            nonrobust                                         \n",
       "===============================================================================\n",
       "                  coef    std err          t      P>|t|      [0.025      0.975]\n",
       "-------------------------------------------------------------------------------\n",
       "Intercept       7.7986      0.249     31.300      0.000       7.283       8.314\n",
       "HarvestRain    -0.0049      0.002     -3.270      0.003      -0.008      -0.002\n",
       "==============================================================================\n",
       "Omnibus:                        0.269   Durbin-Watson:                   1.651\n",
       "Prob(Omnibus):                  0.874   Jarque-Bera (JB):                0.200\n",
       "Skew:                           0.188   Prob(JB):                        0.905\n",
       "Kurtosis:                       2.776   Cond. No.                         376.\n",
       "==============================================================================\n",
       "\n",
       "Notes:\n",
       "[1] Standard Errors assume that the covariance matrix of the errors is correctly specified.\n",
       "\"\"\""
      ]
     },
     "execution_count": 33,
     "metadata": {},
     "output_type": "execute_result"
    }
   ],
   "source": [
    "linear_regression = smf.ols(\"Price ~  HarvestRain\", data=df)\n",
    "linear_regression_results = linear_regression.fit()\n",
    "linear_regression_results.summary()"
   ]
  },
  {
   "cell_type": "code",
   "execution_count": 34,
   "id": "78b2caaf-3f93-4c6d-909d-6906390755c1",
   "metadata": {},
   "outputs": [
    {
     "data": {
      "text/html": [
       "<table class=\"simpletable\">\n",
       "<caption>OLS Regression Results</caption>\n",
       "<tr>\n",
       "  <th>Dep. Variable:</th>          <td>Price</td>      <th>  R-squared:         </th> <td>   0.218</td>\n",
       "</tr>\n",
       "<tr>\n",
       "  <th>Model:</th>                   <td>OLS</td>       <th>  Adj. R-squared:    </th> <td>   0.184</td>\n",
       "</tr>\n",
       "<tr>\n",
       "  <th>Method:</th>             <td>Least Squares</td>  <th>  F-statistic:       </th> <td>   6.410</td>\n",
       "</tr>\n",
       "<tr>\n",
       "  <th>Date:</th>             <td>Sat, 21 Oct 2023</td> <th>  Prob (F-statistic):</th>  <td>0.0186</td> \n",
       "</tr>\n",
       "<tr>\n",
       "  <th>Time:</th>                 <td>09:55:23</td>     <th>  Log-Likelihood:    </th> <td> -21.134</td>\n",
       "</tr>\n",
       "<tr>\n",
       "  <th>No. Observations:</th>      <td>    25</td>      <th>  AIC:               </th> <td>   46.27</td>\n",
       "</tr>\n",
       "<tr>\n",
       "  <th>Df Residuals:</th>          <td>    23</td>      <th>  BIC:               </th> <td>   48.70</td>\n",
       "</tr>\n",
       "<tr>\n",
       "  <th>Df Model:</th>              <td>     1</td>      <th>                     </th>     <td> </td>   \n",
       "</tr>\n",
       "<tr>\n",
       "  <th>Covariance Type:</th>      <td>nonrobust</td>    <th>                     </th>     <td> </td>   \n",
       "</tr>\n",
       "</table>\n",
       "<table class=\"simpletable\">\n",
       "<tr>\n",
       "      <td></td>         <th>coef</th>     <th>std err</th>      <th>t</th>      <th>P>|t|</th>  <th>[0.025</th>    <th>0.975]</th>  \n",
       "</tr>\n",
       "<tr>\n",
       "  <th>Intercept</th> <td>   11.1838</td> <td>    1.630</td> <td>    6.861</td> <td> 0.000</td> <td>    7.812</td> <td>   14.556</td>\n",
       "</tr>\n",
       "<tr>\n",
       "  <th>FrancePop</th> <td>-8.284e-05</td> <td> 3.27e-05</td> <td>   -2.532</td> <td> 0.019</td> <td>   -0.000</td> <td>-1.52e-05</td>\n",
       "</tr>\n",
       "</table>\n",
       "<table class=\"simpletable\">\n",
       "<tr>\n",
       "  <th>Omnibus:</th>       <td> 2.736</td> <th>  Durbin-Watson:     </th> <td>   2.644</td>\n",
       "</tr>\n",
       "<tr>\n",
       "  <th>Prob(Omnibus):</th> <td> 0.255</td> <th>  Jarque-Bera (JB):  </th> <td>   1.416</td>\n",
       "</tr>\n",
       "<tr>\n",
       "  <th>Skew:</th>          <td> 0.236</td> <th>  Prob(JB):          </th> <td>   0.493</td>\n",
       "</tr>\n",
       "<tr>\n",
       "  <th>Kurtosis:</th>      <td> 1.934</td> <th>  Cond. No.          </th> <td>6.91e+05</td>\n",
       "</tr>\n",
       "</table><br/><br/>Notes:<br/>[1] Standard Errors assume that the covariance matrix of the errors is correctly specified.<br/>[2] The condition number is large, 6.91e+05. This might indicate that there are<br/>strong multicollinearity or other numerical problems."
      ],
      "text/latex": [
       "\\begin{center}\n",
       "\\begin{tabular}{lclc}\n",
       "\\toprule\n",
       "\\textbf{Dep. Variable:}    &      Price       & \\textbf{  R-squared:         } &     0.218   \\\\\n",
       "\\textbf{Model:}            &       OLS        & \\textbf{  Adj. R-squared:    } &     0.184   \\\\\n",
       "\\textbf{Method:}           &  Least Squares   & \\textbf{  F-statistic:       } &     6.410   \\\\\n",
       "\\textbf{Date:}             & Sat, 21 Oct 2023 & \\textbf{  Prob (F-statistic):} &   0.0186    \\\\\n",
       "\\textbf{Time:}             &     09:55:23     & \\textbf{  Log-Likelihood:    } &   -21.134   \\\\\n",
       "\\textbf{No. Observations:} &          25      & \\textbf{  AIC:               } &     46.27   \\\\\n",
       "\\textbf{Df Residuals:}     &          23      & \\textbf{  BIC:               } &     48.70   \\\\\n",
       "\\textbf{Df Model:}         &           1      & \\textbf{                     } &             \\\\\n",
       "\\textbf{Covariance Type:}  &    nonrobust     & \\textbf{                     } &             \\\\\n",
       "\\bottomrule\n",
       "\\end{tabular}\n",
       "\\begin{tabular}{lcccccc}\n",
       "                   & \\textbf{coef} & \\textbf{std err} & \\textbf{t} & \\textbf{P$> |$t$|$} & \\textbf{[0.025} & \\textbf{0.975]}  \\\\\n",
       "\\midrule\n",
       "\\textbf{Intercept} &      11.1838  &        1.630     &     6.861  &         0.000        &        7.812    &       14.556     \\\\\n",
       "\\textbf{FrancePop} &   -8.284e-05  &     3.27e-05     &    -2.532  &         0.019        &       -0.000    &    -1.52e-05     \\\\\n",
       "\\bottomrule\n",
       "\\end{tabular}\n",
       "\\begin{tabular}{lclc}\n",
       "\\textbf{Omnibus:}       &  2.736 & \\textbf{  Durbin-Watson:     } &    2.644  \\\\\n",
       "\\textbf{Prob(Omnibus):} &  0.255 & \\textbf{  Jarque-Bera (JB):  } &    1.416  \\\\\n",
       "\\textbf{Skew:}          &  0.236 & \\textbf{  Prob(JB):          } &    0.493  \\\\\n",
       "\\textbf{Kurtosis:}      &  1.934 & \\textbf{  Cond. No.          } & 6.91e+05  \\\\\n",
       "\\bottomrule\n",
       "\\end{tabular}\n",
       "%\\caption{OLS Regression Results}\n",
       "\\end{center}\n",
       "\n",
       "Notes: \\newline\n",
       " [1] Standard Errors assume that the covariance matrix of the errors is correctly specified. \\newline\n",
       " [2] The condition number is large, 6.91e+05. This might indicate that there are \\newline\n",
       " strong multicollinearity or other numerical problems."
      ],
      "text/plain": [
       "<class 'statsmodels.iolib.summary.Summary'>\n",
       "\"\"\"\n",
       "                            OLS Regression Results                            \n",
       "==============================================================================\n",
       "Dep. Variable:                  Price   R-squared:                       0.218\n",
       "Model:                            OLS   Adj. R-squared:                  0.184\n",
       "Method:                 Least Squares   F-statistic:                     6.410\n",
       "Date:                Sat, 21 Oct 2023   Prob (F-statistic):             0.0186\n",
       "Time:                        09:55:23   Log-Likelihood:                -21.134\n",
       "No. Observations:                  25   AIC:                             46.27\n",
       "Df Residuals:                      23   BIC:                             48.70\n",
       "Df Model:                           1                                         \n",
       "Covariance Type:            nonrobust                                         \n",
       "==============================================================================\n",
       "                 coef    std err          t      P>|t|      [0.025      0.975]\n",
       "------------------------------------------------------------------------------\n",
       "Intercept     11.1838      1.630      6.861      0.000       7.812      14.556\n",
       "FrancePop  -8.284e-05   3.27e-05     -2.532      0.019      -0.000   -1.52e-05\n",
       "==============================================================================\n",
       "Omnibus:                        2.736   Durbin-Watson:                   2.644\n",
       "Prob(Omnibus):                  0.255   Jarque-Bera (JB):                1.416\n",
       "Skew:                           0.236   Prob(JB):                        0.493\n",
       "Kurtosis:                       1.934   Cond. No.                     6.91e+05\n",
       "==============================================================================\n",
       "\n",
       "Notes:\n",
       "[1] Standard Errors assume that the covariance matrix of the errors is correctly specified.\n",
       "[2] The condition number is large, 6.91e+05. This might indicate that there are\n",
       "strong multicollinearity or other numerical problems.\n",
       "\"\"\""
      ]
     },
     "execution_count": 34,
     "metadata": {},
     "output_type": "execute_result"
    }
   ],
   "source": [
    "linear_regression = smf.ols(\"Price ~  FrancePop\", data=df)\n",
    "linear_regression_results = linear_regression.fit()\n",
    "linear_regression_results.summary()"
   ]
  },
  {
   "cell_type": "code",
   "execution_count": 35,
   "id": "ac3d17d1-fc0e-47c1-b663-ecac67b8e0e8",
   "metadata": {},
   "outputs": [
    {
     "data": {
      "text/html": [
       "<table class=\"simpletable\">\n",
       "<caption>OLS Regression Results</caption>\n",
       "<tr>\n",
       "  <th>Dep. Variable:</th>          <td>Price</td>      <th>  R-squared:         </th> <td>   0.200</td>\n",
       "</tr>\n",
       "<tr>\n",
       "  <th>Model:</th>                   <td>OLS</td>       <th>  Adj. R-squared:    </th> <td>   0.166</td>\n",
       "</tr>\n",
       "<tr>\n",
       "  <th>Method:</th>             <td>Least Squares</td>  <th>  F-statistic:       </th> <td>   5.768</td>\n",
       "</tr>\n",
       "<tr>\n",
       "  <th>Date:</th>             <td>Sat, 21 Oct 2023</td> <th>  Prob (F-statistic):</th>  <td>0.0248</td> \n",
       "</tr>\n",
       "<tr>\n",
       "  <th>Time:</th>                 <td>09:55:23</td>     <th>  Log-Likelihood:    </th> <td> -21.410</td>\n",
       "</tr>\n",
       "<tr>\n",
       "  <th>No. Observations:</th>      <td>    25</td>      <th>  AIC:               </th> <td>   46.82</td>\n",
       "</tr>\n",
       "<tr>\n",
       "  <th>Df Residuals:</th>          <td>    23</td>      <th>  BIC:               </th> <td>   49.26</td>\n",
       "</tr>\n",
       "<tr>\n",
       "  <th>Df Model:</th>              <td>     1</td>      <th>                     </th>     <td> </td>   \n",
       "</tr>\n",
       "<tr>\n",
       "  <th>Covariance Type:</th>      <td>nonrobust</td>    <th>                     </th>     <td> </td>   \n",
       "</tr>\n",
       "</table>\n",
       "<table class=\"simpletable\">\n",
       "<tr>\n",
       "      <td></td>         <th>coef</th>     <th>std err</th>      <th>t</th>      <th>P>|t|</th>  <th>[0.025</th>    <th>0.975]</th>  \n",
       "</tr>\n",
       "<tr>\n",
       "  <th>Intercept</th> <td>    6.4161</td> <td>    0.296</td> <td>   21.675</td> <td> 0.000</td> <td>    5.804</td> <td>    7.028</td>\n",
       "</tr>\n",
       "<tr>\n",
       "  <th>Age</th>       <td>    0.0379</td> <td>    0.016</td> <td>    2.402</td> <td> 0.025</td> <td>    0.005</td> <td>    0.070</td>\n",
       "</tr>\n",
       "</table>\n",
       "<table class=\"simpletable\">\n",
       "<tr>\n",
       "  <th>Omnibus:</th>       <td> 2.450</td> <th>  Durbin-Watson:     </th> <td>   2.598</td>\n",
       "</tr>\n",
       "<tr>\n",
       "  <th>Prob(Omnibus):</th> <td> 0.294</td> <th>  Jarque-Bera (JB):  </th> <td>   1.369</td>\n",
       "</tr>\n",
       "<tr>\n",
       "  <th>Skew:</th>          <td> 0.251</td> <th>  Prob(JB):          </th> <td>   0.504</td>\n",
       "</tr>\n",
       "<tr>\n",
       "  <th>Kurtosis:</th>      <td> 1.970</td> <th>  Cond. No.          </th> <td>    46.9</td>\n",
       "</tr>\n",
       "</table><br/><br/>Notes:<br/>[1] Standard Errors assume that the covariance matrix of the errors is correctly specified."
      ],
      "text/latex": [
       "\\begin{center}\n",
       "\\begin{tabular}{lclc}\n",
       "\\toprule\n",
       "\\textbf{Dep. Variable:}    &      Price       & \\textbf{  R-squared:         } &     0.200   \\\\\n",
       "\\textbf{Model:}            &       OLS        & \\textbf{  Adj. R-squared:    } &     0.166   \\\\\n",
       "\\textbf{Method:}           &  Least Squares   & \\textbf{  F-statistic:       } &     5.768   \\\\\n",
       "\\textbf{Date:}             & Sat, 21 Oct 2023 & \\textbf{  Prob (F-statistic):} &   0.0248    \\\\\n",
       "\\textbf{Time:}             &     09:55:23     & \\textbf{  Log-Likelihood:    } &   -21.410   \\\\\n",
       "\\textbf{No. Observations:} &          25      & \\textbf{  AIC:               } &     46.82   \\\\\n",
       "\\textbf{Df Residuals:}     &          23      & \\textbf{  BIC:               } &     49.26   \\\\\n",
       "\\textbf{Df Model:}         &           1      & \\textbf{                     } &             \\\\\n",
       "\\textbf{Covariance Type:}  &    nonrobust     & \\textbf{                     } &             \\\\\n",
       "\\bottomrule\n",
       "\\end{tabular}\n",
       "\\begin{tabular}{lcccccc}\n",
       "                   & \\textbf{coef} & \\textbf{std err} & \\textbf{t} & \\textbf{P$> |$t$|$} & \\textbf{[0.025} & \\textbf{0.975]}  \\\\\n",
       "\\midrule\n",
       "\\textbf{Intercept} &       6.4161  &        0.296     &    21.675  &         0.000        &        5.804    &        7.028     \\\\\n",
       "\\textbf{Age}       &       0.0379  &        0.016     &     2.402  &         0.025        &        0.005    &        0.070     \\\\\n",
       "\\bottomrule\n",
       "\\end{tabular}\n",
       "\\begin{tabular}{lclc}\n",
       "\\textbf{Omnibus:}       &  2.450 & \\textbf{  Durbin-Watson:     } &    2.598  \\\\\n",
       "\\textbf{Prob(Omnibus):} &  0.294 & \\textbf{  Jarque-Bera (JB):  } &    1.369  \\\\\n",
       "\\textbf{Skew:}          &  0.251 & \\textbf{  Prob(JB):          } &    0.504  \\\\\n",
       "\\textbf{Kurtosis:}      &  1.970 & \\textbf{  Cond. No.          } &     46.9  \\\\\n",
       "\\bottomrule\n",
       "\\end{tabular}\n",
       "%\\caption{OLS Regression Results}\n",
       "\\end{center}\n",
       "\n",
       "Notes: \\newline\n",
       " [1] Standard Errors assume that the covariance matrix of the errors is correctly specified."
      ],
      "text/plain": [
       "<class 'statsmodels.iolib.summary.Summary'>\n",
       "\"\"\"\n",
       "                            OLS Regression Results                            \n",
       "==============================================================================\n",
       "Dep. Variable:                  Price   R-squared:                       0.200\n",
       "Model:                            OLS   Adj. R-squared:                  0.166\n",
       "Method:                 Least Squares   F-statistic:                     5.768\n",
       "Date:                Sat, 21 Oct 2023   Prob (F-statistic):             0.0248\n",
       "Time:                        09:55:23   Log-Likelihood:                -21.410\n",
       "No. Observations:                  25   AIC:                             46.82\n",
       "Df Residuals:                      23   BIC:                             49.26\n",
       "Df Model:                           1                                         \n",
       "Covariance Type:            nonrobust                                         \n",
       "==============================================================================\n",
       "                 coef    std err          t      P>|t|      [0.025      0.975]\n",
       "------------------------------------------------------------------------------\n",
       "Intercept      6.4161      0.296     21.675      0.000       5.804       7.028\n",
       "Age            0.0379      0.016      2.402      0.025       0.005       0.070\n",
       "==============================================================================\n",
       "Omnibus:                        2.450   Durbin-Watson:                   2.598\n",
       "Prob(Omnibus):                  0.294   Jarque-Bera (JB):                1.369\n",
       "Skew:                           0.251   Prob(JB):                        0.504\n",
       "Kurtosis:                       1.970   Cond. No.                         46.9\n",
       "==============================================================================\n",
       "\n",
       "Notes:\n",
       "[1] Standard Errors assume that the covariance matrix of the errors is correctly specified.\n",
       "\"\"\""
      ]
     },
     "execution_count": 35,
     "metadata": {},
     "output_type": "execute_result"
    }
   ],
   "source": [
    "linear_regression = smf.ols(\"Price ~  Age\", data=df)\n",
    "linear_regression_results = linear_regression.fit()\n",
    "linear_regression_results.summary()"
   ]
  },
  {
   "cell_type": "code",
   "execution_count": 36,
   "id": "2b9aa18d-5343-49de-9cfe-3ed23829b6a3",
   "metadata": {},
   "outputs": [
    {
     "data": {
      "text/plain": [
       "0.02479696186941513"
      ]
     },
     "execution_count": 36,
     "metadata": {},
     "output_type": "execute_result"
    }
   ],
   "source": [
    "linear_regression_results.pvalues.Age"
   ]
  },
  {
   "cell_type": "code",
   "execution_count": 37,
   "id": "61b7c364-d958-40ce-ab17-6092b6054c92",
   "metadata": {},
   "outputs": [
    {
     "data": {
      "text/plain": [
       "['Year', 'Price', 'WinterRain', 'AGST', 'HarvestRain', 'Age', 'FrancePop']"
      ]
     },
     "execution_count": 37,
     "metadata": {},
     "output_type": "execute_result"
    }
   ],
   "source": [
    "columns"
   ]
  },
  {
   "cell_type": "code",
   "execution_count": 38,
   "id": "51243db1-e04d-43bf-ad42-235176b8f414",
   "metadata": {},
   "outputs": [
    {
     "name": "stdout",
     "output_type": "stream",
     "text": [
      "Year: 0.024796961869415213\n",
      "Price: 0.0\n",
      "WinterRain: 0.5148276174028552\n",
      "AGST: 0.0003350494895241985\n",
      "HarvestRain: 0.003366327503254135\n",
      "Age: 0.02479696186941513\n",
      "FrancePop: 0.018634621433194283\n"
     ]
    }
   ],
   "source": [
    "for c in columns:\n",
    "    linear_regression = smf.ols(\"Price ~  %s\"%c, data=df)\n",
    "    linear_regression_results = linear_regression.fit()\n",
    "    print(\"%s: %s\"%(c, linear_regression_results.pvalues[c]))"
   ]
  },
  {
   "cell_type": "markdown",
   "id": "4cb58d85-057c-41dc-9e5c-f50b3bd8b993",
   "metadata": {},
   "source": [
    "# Multiple Variable Linear Regression"
   ]
  },
  {
   "cell_type": "code",
   "execution_count": 39,
   "id": "9b6943c3-5329-4343-bd83-c67b43662ff0",
   "metadata": {},
   "outputs": [
    {
     "data": {
      "text/html": [
       "<table class=\"simpletable\">\n",
       "<caption>OLS Regression Results</caption>\n",
       "<tr>\n",
       "  <th>Dep. Variable:</th>          <td>Price</td>      <th>  R-squared:         </th> <td>   0.829</td>\n",
       "</tr>\n",
       "<tr>\n",
       "  <th>Model:</th>                   <td>OLS</td>       <th>  Adj. R-squared:    </th> <td>   0.784</td>\n",
       "</tr>\n",
       "<tr>\n",
       "  <th>Method:</th>             <td>Least Squares</td>  <th>  F-statistic:       </th> <td>   18.47</td>\n",
       "</tr>\n",
       "<tr>\n",
       "  <th>Date:</th>             <td>Sat, 21 Oct 2023</td> <th>  Prob (F-statistic):</th> <td>1.04e-06</td>\n",
       "</tr>\n",
       "<tr>\n",
       "  <th>Time:</th>                 <td>09:55:23</td>     <th>  Log-Likelihood:    </th> <td> -2.1043</td>\n",
       "</tr>\n",
       "<tr>\n",
       "  <th>No. Observations:</th>      <td>    25</td>      <th>  AIC:               </th> <td>   16.21</td>\n",
       "</tr>\n",
       "<tr>\n",
       "  <th>Df Residuals:</th>          <td>    19</td>      <th>  BIC:               </th> <td>   23.52</td>\n",
       "</tr>\n",
       "<tr>\n",
       "  <th>Df Model:</th>              <td>     5</td>      <th>                     </th>     <td> </td>   \n",
       "</tr>\n",
       "<tr>\n",
       "  <th>Covariance Type:</th>      <td>nonrobust</td>    <th>                     </th>     <td> </td>   \n",
       "</tr>\n",
       "</table>\n",
       "<table class=\"simpletable\">\n",
       "<tr>\n",
       "       <td></td>          <th>coef</th>     <th>std err</th>      <th>t</th>      <th>P>|t|</th>  <th>[0.025</th>    <th>0.975]</th>  \n",
       "</tr>\n",
       "<tr>\n",
       "  <th>Intercept</th>   <td>   -0.4504</td> <td>   10.189</td> <td>   -0.044</td> <td> 0.965</td> <td>  -21.776</td> <td>   20.875</td>\n",
       "</tr>\n",
       "<tr>\n",
       "  <th>WinterRain</th>  <td>    0.0010</td> <td>    0.001</td> <td>    1.963</td> <td> 0.064</td> <td>-6.89e-05</td> <td>    0.002</td>\n",
       "</tr>\n",
       "<tr>\n",
       "  <th>AGST</th>        <td>    0.6012</td> <td>    0.103</td> <td>    5.836</td> <td> 0.000</td> <td>    0.386</td> <td>    0.817</td>\n",
       "</tr>\n",
       "<tr>\n",
       "  <th>HarvestRain</th> <td>   -0.0040</td> <td>    0.001</td> <td>   -4.523</td> <td> 0.000</td> <td>   -0.006</td> <td>   -0.002</td>\n",
       "</tr>\n",
       "<tr>\n",
       "  <th>Age</th>         <td>    0.0006</td> <td>    0.079</td> <td>    0.007</td> <td> 0.994</td> <td>   -0.165</td> <td>    0.166</td>\n",
       "</tr>\n",
       "<tr>\n",
       "  <th>FrancePop</th>   <td>-4.953e-05</td> <td>    0.000</td> <td>   -0.297</td> <td> 0.770</td> <td>   -0.000</td> <td>    0.000</td>\n",
       "</tr>\n",
       "</table>\n",
       "<table class=\"simpletable\">\n",
       "<tr>\n",
       "  <th>Omnibus:</th>       <td> 1.769</td> <th>  Durbin-Watson:     </th> <td>   2.792</td>\n",
       "</tr>\n",
       "<tr>\n",
       "  <th>Prob(Omnibus):</th> <td> 0.413</td> <th>  Jarque-Bera (JB):  </th> <td>   1.026</td>\n",
       "</tr>\n",
       "<tr>\n",
       "  <th>Skew:</th>          <td>-0.005</td> <th>  Prob(JB):          </th> <td>   0.599</td>\n",
       "</tr>\n",
       "<tr>\n",
       "  <th>Kurtosis:</th>      <td> 2.008</td> <th>  Cond. No.          </th> <td>8.41e+06</td>\n",
       "</tr>\n",
       "</table><br/><br/>Notes:<br/>[1] Standard Errors assume that the covariance matrix of the errors is correctly specified.<br/>[2] The condition number is large, 8.41e+06. This might indicate that there are<br/>strong multicollinearity or other numerical problems."
      ],
      "text/latex": [
       "\\begin{center}\n",
       "\\begin{tabular}{lclc}\n",
       "\\toprule\n",
       "\\textbf{Dep. Variable:}    &      Price       & \\textbf{  R-squared:         } &     0.829   \\\\\n",
       "\\textbf{Model:}            &       OLS        & \\textbf{  Adj. R-squared:    } &     0.784   \\\\\n",
       "\\textbf{Method:}           &  Least Squares   & \\textbf{  F-statistic:       } &     18.47   \\\\\n",
       "\\textbf{Date:}             & Sat, 21 Oct 2023 & \\textbf{  Prob (F-statistic):} &  1.04e-06   \\\\\n",
       "\\textbf{Time:}             &     09:55:23     & \\textbf{  Log-Likelihood:    } &   -2.1043   \\\\\n",
       "\\textbf{No. Observations:} &          25      & \\textbf{  AIC:               } &     16.21   \\\\\n",
       "\\textbf{Df Residuals:}     &          19      & \\textbf{  BIC:               } &     23.52   \\\\\n",
       "\\textbf{Df Model:}         &           5      & \\textbf{                     } &             \\\\\n",
       "\\textbf{Covariance Type:}  &    nonrobust     & \\textbf{                     } &             \\\\\n",
       "\\bottomrule\n",
       "\\end{tabular}\n",
       "\\begin{tabular}{lcccccc}\n",
       "                     & \\textbf{coef} & \\textbf{std err} & \\textbf{t} & \\textbf{P$> |$t$|$} & \\textbf{[0.025} & \\textbf{0.975]}  \\\\\n",
       "\\midrule\n",
       "\\textbf{Intercept}   &      -0.4504  &       10.189     &    -0.044  &         0.965        &      -21.776    &       20.875     \\\\\n",
       "\\textbf{WinterRain}  &       0.0010  &        0.001     &     1.963  &         0.064        &    -6.89e-05    &        0.002     \\\\\n",
       "\\textbf{AGST}        &       0.6012  &        0.103     &     5.836  &         0.000        &        0.386    &        0.817     \\\\\n",
       "\\textbf{HarvestRain} &      -0.0040  &        0.001     &    -4.523  &         0.000        &       -0.006    &       -0.002     \\\\\n",
       "\\textbf{Age}         &       0.0006  &        0.079     &     0.007  &         0.994        &       -0.165    &        0.166     \\\\\n",
       "\\textbf{FrancePop}   &   -4.953e-05  &        0.000     &    -0.297  &         0.770        &       -0.000    &        0.000     \\\\\n",
       "\\bottomrule\n",
       "\\end{tabular}\n",
       "\\begin{tabular}{lclc}\n",
       "\\textbf{Omnibus:}       &  1.769 & \\textbf{  Durbin-Watson:     } &    2.792  \\\\\n",
       "\\textbf{Prob(Omnibus):} &  0.413 & \\textbf{  Jarque-Bera (JB):  } &    1.026  \\\\\n",
       "\\textbf{Skew:}          & -0.005 & \\textbf{  Prob(JB):          } &    0.599  \\\\\n",
       "\\textbf{Kurtosis:}      &  2.008 & \\textbf{  Cond. No.          } & 8.41e+06  \\\\\n",
       "\\bottomrule\n",
       "\\end{tabular}\n",
       "%\\caption{OLS Regression Results}\n",
       "\\end{center}\n",
       "\n",
       "Notes: \\newline\n",
       " [1] Standard Errors assume that the covariance matrix of the errors is correctly specified. \\newline\n",
       " [2] The condition number is large, 8.41e+06. This might indicate that there are \\newline\n",
       " strong multicollinearity or other numerical problems."
      ],
      "text/plain": [
       "<class 'statsmodels.iolib.summary.Summary'>\n",
       "\"\"\"\n",
       "                            OLS Regression Results                            \n",
       "==============================================================================\n",
       "Dep. Variable:                  Price   R-squared:                       0.829\n",
       "Model:                            OLS   Adj. R-squared:                  0.784\n",
       "Method:                 Least Squares   F-statistic:                     18.47\n",
       "Date:                Sat, 21 Oct 2023   Prob (F-statistic):           1.04e-06\n",
       "Time:                        09:55:23   Log-Likelihood:                -2.1043\n",
       "No. Observations:                  25   AIC:                             16.21\n",
       "Df Residuals:                      19   BIC:                             23.52\n",
       "Df Model:                           5                                         \n",
       "Covariance Type:            nonrobust                                         \n",
       "===============================================================================\n",
       "                  coef    std err          t      P>|t|      [0.025      0.975]\n",
       "-------------------------------------------------------------------------------\n",
       "Intercept      -0.4504     10.189     -0.044      0.965     -21.776      20.875\n",
       "WinterRain      0.0010      0.001      1.963      0.064   -6.89e-05       0.002\n",
       "AGST            0.6012      0.103      5.836      0.000       0.386       0.817\n",
       "HarvestRain    -0.0040      0.001     -4.523      0.000      -0.006      -0.002\n",
       "Age             0.0006      0.079      0.007      0.994      -0.165       0.166\n",
       "FrancePop   -4.953e-05      0.000     -0.297      0.770      -0.000       0.000\n",
       "==============================================================================\n",
       "Omnibus:                        1.769   Durbin-Watson:                   2.792\n",
       "Prob(Omnibus):                  0.413   Jarque-Bera (JB):                1.026\n",
       "Skew:                          -0.005   Prob(JB):                        0.599\n",
       "Kurtosis:                       2.008   Cond. No.                     8.41e+06\n",
       "==============================================================================\n",
       "\n",
       "Notes:\n",
       "[1] Standard Errors assume that the covariance matrix of the errors is correctly specified.\n",
       "[2] The condition number is large, 8.41e+06. This might indicate that there are\n",
       "strong multicollinearity or other numerical problems.\n",
       "\"\"\""
      ]
     },
     "execution_count": 39,
     "metadata": {},
     "output_type": "execute_result"
    }
   ],
   "source": [
    "# Much higher R^2, so explainability is better\n",
    "\n",
    "s = \" + \".join(['WinterRain', 'AGST', 'HarvestRain', 'Age', 'FrancePop'])\n",
    "linear_regression = smf.ols(\"Price ~ %s\"%s, data=df)\n",
    "linear_regression_results = linear_regression.fit()\n",
    "linear_regression_results.summary()"
   ]
  },
  {
   "cell_type": "markdown",
   "id": "dacbad56-85d8-4bfa-8f47-bb807b035659",
   "metadata": {},
   "source": [
    "When doing multi variable regression, the significance of variable can change, because when other variables cannot explain the change of price, but WinterRain can explain, so the significance of WinterRain in multiple variable regression goes up compare to single varible"
   ]
  },
  {
   "cell_type": "markdown",
   "id": "b29861a2-a173-4ddd-93ca-547ad5c2d99d",
   "metadata": {},
   "source": [
    "p value for Age and FranceProp is bad, but it doesn't mean we should drop the two"
   ]
  },
  {
   "cell_type": "code",
   "execution_count": 40,
   "id": "07940985-aa43-466b-a5fc-41be6f410c11",
   "metadata": {},
   "outputs": [
    {
     "data": {
      "text/html": [
       "<div>\n",
       "<style scoped>\n",
       "    .dataframe tbody tr th:only-of-type {\n",
       "        vertical-align: middle;\n",
       "    }\n",
       "\n",
       "    .dataframe tbody tr th {\n",
       "        vertical-align: top;\n",
       "    }\n",
       "\n",
       "    .dataframe thead th {\n",
       "        text-align: right;\n",
       "    }\n",
       "</style>\n",
       "<table border=\"1\" class=\"dataframe\">\n",
       "  <thead>\n",
       "    <tr style=\"text-align: right;\">\n",
       "      <th></th>\n",
       "      <th>Year</th>\n",
       "      <th>Price</th>\n",
       "      <th>WinterRain</th>\n",
       "      <th>AGST</th>\n",
       "      <th>HarvestRain</th>\n",
       "      <th>Age</th>\n",
       "      <th>FrancePop</th>\n",
       "    </tr>\n",
       "  </thead>\n",
       "  <tbody>\n",
       "    <tr>\n",
       "      <th>Year</th>\n",
       "      <td>1.000000</td>\n",
       "      <td>-0.447768</td>\n",
       "      <td>0.016970</td>\n",
       "      <td>-0.246916</td>\n",
       "      <td>0.028009</td>\n",
       "      <td>-1.000000</td>\n",
       "      <td>0.994485</td>\n",
       "    </tr>\n",
       "    <tr>\n",
       "      <th>Price</th>\n",
       "      <td>-0.447768</td>\n",
       "      <td>1.000000</td>\n",
       "      <td>0.136651</td>\n",
       "      <td>0.659563</td>\n",
       "      <td>-0.563322</td>\n",
       "      <td>0.447768</td>\n",
       "      <td>-0.466862</td>\n",
       "    </tr>\n",
       "    <tr>\n",
       "      <th>WinterRain</th>\n",
       "      <td>0.016970</td>\n",
       "      <td>0.136651</td>\n",
       "      <td>1.000000</td>\n",
       "      <td>-0.321091</td>\n",
       "      <td>-0.275441</td>\n",
       "      <td>-0.016970</td>\n",
       "      <td>-0.001622</td>\n",
       "    </tr>\n",
       "    <tr>\n",
       "      <th>AGST</th>\n",
       "      <td>-0.246916</td>\n",
       "      <td>0.659563</td>\n",
       "      <td>-0.321091</td>\n",
       "      <td>1.000000</td>\n",
       "      <td>-0.064496</td>\n",
       "      <td>0.246916</td>\n",
       "      <td>-0.259162</td>\n",
       "    </tr>\n",
       "    <tr>\n",
       "      <th>HarvestRain</th>\n",
       "      <td>0.028009</td>\n",
       "      <td>-0.563322</td>\n",
       "      <td>-0.275441</td>\n",
       "      <td>-0.064496</td>\n",
       "      <td>1.000000</td>\n",
       "      <td>-0.028009</td>\n",
       "      <td>0.041264</td>\n",
       "    </tr>\n",
       "    <tr>\n",
       "      <th>Age</th>\n",
       "      <td>-1.000000</td>\n",
       "      <td>0.447768</td>\n",
       "      <td>-0.016970</td>\n",
       "      <td>0.246916</td>\n",
       "      <td>-0.028009</td>\n",
       "      <td>1.000000</td>\n",
       "      <td>-0.994485</td>\n",
       "    </tr>\n",
       "    <tr>\n",
       "      <th>FrancePop</th>\n",
       "      <td>0.994485</td>\n",
       "      <td>-0.466862</td>\n",
       "      <td>-0.001622</td>\n",
       "      <td>-0.259162</td>\n",
       "      <td>0.041264</td>\n",
       "      <td>-0.994485</td>\n",
       "      <td>1.000000</td>\n",
       "    </tr>\n",
       "  </tbody>\n",
       "</table>\n",
       "</div>"
      ],
      "text/plain": [
       "                 Year     Price  WinterRain      AGST  HarvestRain       Age  \\\n",
       "Year         1.000000 -0.447768    0.016970 -0.246916     0.028009 -1.000000   \n",
       "Price       -0.447768  1.000000    0.136651  0.659563    -0.563322  0.447768   \n",
       "WinterRain   0.016970  0.136651    1.000000 -0.321091    -0.275441 -0.016970   \n",
       "AGST        -0.246916  0.659563   -0.321091  1.000000    -0.064496  0.246916   \n",
       "HarvestRain  0.028009 -0.563322   -0.275441 -0.064496     1.000000 -0.028009   \n",
       "Age         -1.000000  0.447768   -0.016970  0.246916    -0.028009  1.000000   \n",
       "FrancePop    0.994485 -0.466862   -0.001622 -0.259162     0.041264 -0.994485   \n",
       "\n",
       "             FrancePop  \n",
       "Year          0.994485  \n",
       "Price        -0.466862  \n",
       "WinterRain   -0.001622  \n",
       "AGST         -0.259162  \n",
       "HarvestRain   0.041264  \n",
       "Age          -0.994485  \n",
       "FrancePop     1.000000  "
      ]
     },
     "execution_count": 40,
     "metadata": {},
     "output_type": "execute_result"
    }
   ],
   "source": [
    "# Check the correlation between vars\n",
    "df.corr()"
   ]
  },
  {
   "cell_type": "code",
   "execution_count": 41,
   "id": "4bdc24a6-6c0f-4a64-84fa-222fad52dddb",
   "metadata": {},
   "outputs": [],
   "source": [
    "import seaborn as sb"
   ]
  },
  {
   "cell_type": "code",
   "execution_count": 42,
   "id": "5ddfc0dc-0a31-42e1-85be-d9037003e3e1",
   "metadata": {},
   "outputs": [
    {
     "data": {
      "text/plain": [
       "<Axes: xlabel='Age', ylabel='FrancePop'>"
      ]
     },
     "execution_count": 42,
     "metadata": {},
     "output_type": "execute_result"
    },
    {
     "data": {
      "image/png": "[encoded data removed]",
      "text/plain": [
       "<Figure size 640x480 with 1 Axes>"
      ]
     },
     "metadata": {},
     "output_type": "display_data"
    }
   ],
   "source": [
    "sb.scatterplot(df, x='Age', y='FrancePop')"
   ]
  },
  {
   "cell_type": "markdown",
   "id": "428b3d0b-11b3-4f87-a22b-8df3645e0e05",
   "metadata": {},
   "source": [
    "Age and FrancePop is inversely correlated, when using multiple variables with high correlation in a model, it creates numerical issues.\n",
    "\n",
    "Sometimes by getting bigger dataset, the correlation could be broken."
   ]
  },
  {
   "cell_type": "markdown",
   "id": "c200b712-6781-45ae-8440-0974b711da3c",
   "metadata": {},
   "source": [
    "1. Only use variables with high significant\n",
    "2. Drop varaibles that have high correlation with other vars, only keep 1"
   ]
  },
  {
   "cell_type": "code",
   "execution_count": 43,
   "id": "5125e8e6-6536-443d-b5c6-4d25d98bdd34",
   "metadata": {},
   "outputs": [
    {
     "data": {
      "text/html": [
       "<table class=\"simpletable\">\n",
       "<caption>OLS Regression Results</caption>\n",
       "<tr>\n",
       "  <th>Dep. Variable:</th>          <td>Price</td>      <th>  R-squared:         </th> <td>   0.829</td>\n",
       "</tr>\n",
       "<tr>\n",
       "  <th>Model:</th>                   <td>OLS</td>       <th>  Adj. R-squared:    </th> <td>   0.794</td>\n",
       "</tr>\n",
       "<tr>\n",
       "  <th>Method:</th>             <td>Least Squares</td>  <th>  F-statistic:       </th> <td>   24.17</td>\n",
       "</tr>\n",
       "<tr>\n",
       "  <th>Date:</th>             <td>Sat, 21 Oct 2023</td> <th>  Prob (F-statistic):</th> <td>2.04e-07</td>\n",
       "</tr>\n",
       "<tr>\n",
       "  <th>Time:</th>                 <td>09:55:23</td>     <th>  Log-Likelihood:    </th> <td> -2.1622</td>\n",
       "</tr>\n",
       "<tr>\n",
       "  <th>No. Observations:</th>      <td>    25</td>      <th>  AIC:               </th> <td>   14.32</td>\n",
       "</tr>\n",
       "<tr>\n",
       "  <th>Df Residuals:</th>          <td>    20</td>      <th>  BIC:               </th> <td>   20.42</td>\n",
       "</tr>\n",
       "<tr>\n",
       "  <th>Df Model:</th>              <td>     4</td>      <th>                     </th>     <td> </td>   \n",
       "</tr>\n",
       "<tr>\n",
       "  <th>Covariance Type:</th>      <td>nonrobust</td>    <th>                     </th>     <td> </td>   \n",
       "</tr>\n",
       "</table>\n",
       "<table class=\"simpletable\">\n",
       "<tr>\n",
       "       <td></td>          <th>coef</th>     <th>std err</th>      <th>t</th>      <th>P>|t|</th>  <th>[0.025</th>    <th>0.975]</th>  \n",
       "</tr>\n",
       "<tr>\n",
       "  <th>Intercept</th>   <td>   -3.4300</td> <td>    1.766</td> <td>   -1.942</td> <td> 0.066</td> <td>   -7.114</td> <td>    0.254</td>\n",
       "</tr>\n",
       "<tr>\n",
       "  <th>WinterRain</th>  <td>    0.0011</td> <td>    0.001</td> <td>    2.120</td> <td> 0.047</td> <td> 1.73e-05</td> <td>    0.002</td>\n",
       "</tr>\n",
       "<tr>\n",
       "  <th>AGST</th>        <td>    0.6072</td> <td>    0.099</td> <td>    6.152</td> <td> 0.000</td> <td>    0.401</td> <td>    0.813</td>\n",
       "</tr>\n",
       "<tr>\n",
       "  <th>HarvestRain</th> <td>   -0.0040</td> <td>    0.001</td> <td>   -4.652</td> <td> 0.000</td> <td>   -0.006</td> <td>   -0.002</td>\n",
       "</tr>\n",
       "<tr>\n",
       "  <th>Age</th>         <td>    0.0239</td> <td>    0.008</td> <td>    2.956</td> <td> 0.008</td> <td>    0.007</td> <td>    0.041</td>\n",
       "</tr>\n",
       "</table>\n",
       "<table class=\"simpletable\">\n",
       "<tr>\n",
       "  <th>Omnibus:</th>       <td> 1.814</td> <th>  Durbin-Watson:     </th> <td>   2.797</td>\n",
       "</tr>\n",
       "<tr>\n",
       "  <th>Prob(Omnibus):</th> <td> 0.404</td> <th>  Jarque-Bera (JB):  </th> <td>   1.041</td>\n",
       "</tr>\n",
       "<tr>\n",
       "  <th>Skew:</th>          <td> 0.034</td> <th>  Prob(JB):          </th> <td>   0.594</td>\n",
       "</tr>\n",
       "<tr>\n",
       "  <th>Kurtosis:</th>      <td> 2.003</td> <th>  Cond. No.          </th> <td>1.91e+04</td>\n",
       "</tr>\n",
       "</table><br/><br/>Notes:<br/>[1] Standard Errors assume that the covariance matrix of the errors is correctly specified.<br/>[2] The condition number is large, 1.91e+04. This might indicate that there are<br/>strong multicollinearity or other numerical problems."
      ],
      "text/latex": [
       "\\begin{center}\n",
       "\\begin{tabular}{lclc}\n",
       "\\toprule\n",
       "\\textbf{Dep. Variable:}    &      Price       & \\textbf{  R-squared:         } &     0.829   \\\\\n",
       "\\textbf{Model:}            &       OLS        & \\textbf{  Adj. R-squared:    } &     0.794   \\\\\n",
       "\\textbf{Method:}           &  Least Squares   & \\textbf{  F-statistic:       } &     24.17   \\\\\n",
       "\\textbf{Date:}             & Sat, 21 Oct 2023 & \\textbf{  Prob (F-statistic):} &  2.04e-07   \\\\\n",
       "\\textbf{Time:}             &     09:55:23     & \\textbf{  Log-Likelihood:    } &   -2.1622   \\\\\n",
       "\\textbf{No. Observations:} &          25      & \\textbf{  AIC:               } &     14.32   \\\\\n",
       "\\textbf{Df Residuals:}     &          20      & \\textbf{  BIC:               } &     20.42   \\\\\n",
       "\\textbf{Df Model:}         &           4      & \\textbf{                     } &             \\\\\n",
       "\\textbf{Covariance Type:}  &    nonrobust     & \\textbf{                     } &             \\\\\n",
       "\\bottomrule\n",
       "\\end{tabular}\n",
       "\\begin{tabular}{lcccccc}\n",
       "                     & \\textbf{coef} & \\textbf{std err} & \\textbf{t} & \\textbf{P$> |$t$|$} & \\textbf{[0.025} & \\textbf{0.975]}  \\\\\n",
       "\\midrule\n",
       "\\textbf{Intercept}   &      -3.4300  &        1.766     &    -1.942  &         0.066        &       -7.114    &        0.254     \\\\\n",
       "\\textbf{WinterRain}  &       0.0011  &        0.001     &     2.120  &         0.047        &     1.73e-05    &        0.002     \\\\\n",
       "\\textbf{AGST}        &       0.6072  &        0.099     &     6.152  &         0.000        &        0.401    &        0.813     \\\\\n",
       "\\textbf{HarvestRain} &      -0.0040  &        0.001     &    -4.652  &         0.000        &       -0.006    &       -0.002     \\\\\n",
       "\\textbf{Age}         &       0.0239  &        0.008     &     2.956  &         0.008        &        0.007    &        0.041     \\\\\n",
       "\\bottomrule\n",
       "\\end{tabular}\n",
       "\\begin{tabular}{lclc}\n",
       "\\textbf{Omnibus:}       &  1.814 & \\textbf{  Durbin-Watson:     } &    2.797  \\\\\n",
       "\\textbf{Prob(Omnibus):} &  0.404 & \\textbf{  Jarque-Bera (JB):  } &    1.041  \\\\\n",
       "\\textbf{Skew:}          &  0.034 & \\textbf{  Prob(JB):          } &    0.594  \\\\\n",
       "\\textbf{Kurtosis:}      &  2.003 & \\textbf{  Cond. No.          } & 1.91e+04  \\\\\n",
       "\\bottomrule\n",
       "\\end{tabular}\n",
       "%\\caption{OLS Regression Results}\n",
       "\\end{center}\n",
       "\n",
       "Notes: \\newline\n",
       " [1] Standard Errors assume that the covariance matrix of the errors is correctly specified. \\newline\n",
       " [2] The condition number is large, 1.91e+04. This might indicate that there are \\newline\n",
       " strong multicollinearity or other numerical problems."
      ],
      "text/plain": [
       "<class 'statsmodels.iolib.summary.Summary'>\n",
       "\"\"\"\n",
       "                            OLS Regression Results                            \n",
       "==============================================================================\n",
       "Dep. Variable:                  Price   R-squared:                       0.829\n",
       "Model:                            OLS   Adj. R-squared:                  0.794\n",
       "Method:                 Least Squares   F-statistic:                     24.17\n",
       "Date:                Sat, 21 Oct 2023   Prob (F-statistic):           2.04e-07\n",
       "Time:                        09:55:23   Log-Likelihood:                -2.1622\n",
       "No. Observations:                  25   AIC:                             14.32\n",
       "Df Residuals:                      20   BIC:                             20.42\n",
       "Df Model:                           4                                         \n",
       "Covariance Type:            nonrobust                                         \n",
       "===============================================================================\n",
       "                  coef    std err          t      P>|t|      [0.025      0.975]\n",
       "-------------------------------------------------------------------------------\n",
       "Intercept      -3.4300      1.766     -1.942      0.066      -7.114       0.254\n",
       "WinterRain      0.0011      0.001      2.120      0.047    1.73e-05       0.002\n",
       "AGST            0.6072      0.099      6.152      0.000       0.401       0.813\n",
       "HarvestRain    -0.0040      0.001     -4.652      0.000      -0.006      -0.002\n",
       "Age             0.0239      0.008      2.956      0.008       0.007       0.041\n",
       "==============================================================================\n",
       "Omnibus:                        1.814   Durbin-Watson:                   2.797\n",
       "Prob(Omnibus):                  0.404   Jarque-Bera (JB):                1.041\n",
       "Skew:                           0.034   Prob(JB):                        0.594\n",
       "Kurtosis:                       2.003   Cond. No.                     1.91e+04\n",
       "==============================================================================\n",
       "\n",
       "Notes:\n",
       "[1] Standard Errors assume that the covariance matrix of the errors is correctly specified.\n",
       "[2] The condition number is large, 1.91e+04. This might indicate that there are\n",
       "strong multicollinearity or other numerical problems.\n",
       "\"\"\""
      ]
     },
     "execution_count": 43,
     "metadata": {},
     "output_type": "execute_result"
    }
   ],
   "source": [
    "# Much higher R^2, so explainability is better\n",
    "\n",
    "s = \" + \".join(['WinterRain', 'AGST', 'HarvestRain', 'Age'])\n",
    "linear_regression = smf.ols(\"Price ~ %s\"%s, data=df)\n",
    "linear_regression_results = linear_regression.fit()\n",
    "linear_regression_results.summary()"
   ]
  },
  {
   "cell_type": "markdown",
   "id": "b6ce0ab3-236a-4f5d-8050-a59a319017a9",
   "metadata": {},
   "source": [
    "A rule of thumb for when regression is a good model is that the number of features is less than the number of rows"
   ]
  },
  {
   "cell_type": "code",
   "execution_count": 44,
   "id": "357335ca-966a-4528-b396-543479f0ee0a",
   "metadata": {},
   "outputs": [],
   "source": [
    "df_test = pd.read_csv(\"https://raw.githubusercontent.com/amandeep0/IS451/main/data/WineTest.csv\")"
   ]
  },
  {
   "cell_type": "code",
   "execution_count": 45,
   "id": "0ed5f93c-5484-4b95-a378-d7a3d38b4f76",
   "metadata": {},
   "outputs": [
    {
     "data": {
      "text/html": [
       "<div>\n",
       "<style scoped>\n",
       "    .dataframe tbody tr th:only-of-type {\n",
       "        vertical-align: middle;\n",
       "    }\n",
       "\n",
       "    .dataframe tbody tr th {\n",
       "        vertical-align: top;\n",
       "    }\n",
       "\n",
       "    .dataframe thead th {\n",
       "        text-align: right;\n",
       "    }\n",
       "</style>\n",
       "<table border=\"1\" class=\"dataframe\">\n",
       "  <thead>\n",
       "    <tr style=\"text-align: right;\">\n",
       "      <th></th>\n",
       "      <th>Year</th>\n",
       "      <th>Price</th>\n",
       "      <th>WinterRain</th>\n",
       "      <th>AGST</th>\n",
       "      <th>HarvestRain</th>\n",
       "      <th>Age</th>\n",
       "      <th>FrancePop</th>\n",
       "    </tr>\n",
       "  </thead>\n",
       "  <tbody>\n",
       "    <tr>\n",
       "      <th>0</th>\n",
       "      <td>1979</td>\n",
       "      <td>6.9541</td>\n",
       "      <td>717</td>\n",
       "      <td>16.1667</td>\n",
       "      <td>122</td>\n",
       "      <td>4</td>\n",
       "      <td>54835.832</td>\n",
       "    </tr>\n",
       "    <tr>\n",
       "      <th>1</th>\n",
       "      <td>1980</td>\n",
       "      <td>6.4979</td>\n",
       "      <td>578</td>\n",
       "      <td>16.0000</td>\n",
       "      <td>74</td>\n",
       "      <td>3</td>\n",
       "      <td>55110.236</td>\n",
       "    </tr>\n",
       "  </tbody>\n",
       "</table>\n",
       "</div>"
      ],
      "text/plain": [
       "   Year   Price  WinterRain     AGST  HarvestRain  Age  FrancePop\n",
       "0  1979  6.9541         717  16.1667          122    4  54835.832\n",
       "1  1980  6.4979         578  16.0000           74    3  55110.236"
      ]
     },
     "execution_count": 45,
     "metadata": {},
     "output_type": "execute_result"
    }
   ],
   "source": [
    "df_test.head()"
   ]
  },
  {
   "cell_type": "code",
   "execution_count": 46,
   "id": "c6757729-fdc1-42f0-843b-04289437b26c",
   "metadata": {},
   "outputs": [
    {
     "data": {
      "text/plain": [
       "0    6.768925\n",
       "1    6.684910\n",
       "dtype: float64"
      ]
     },
     "execution_count": 46,
     "metadata": {},
     "output_type": "execute_result"
    }
   ],
   "source": [
    "y_pred = linear_regression_results.predict(df_test)\n",
    "y_pred"
   ]
  },
  {
   "cell_type": "code",
   "execution_count": 47,
   "id": "14fa825b-ba11-4965-879d-a4f672bcd66c",
   "metadata": {},
   "outputs": [],
   "source": [
    "y = df_test['Price']"
   ]
  },
  {
   "cell_type": "code",
   "execution_count": 48,
   "id": "eccb8da1-9b0f-435c-b775-e4860a106e73",
   "metadata": {},
   "outputs": [
    {
     "data": {
      "text/plain": [
       "0.06926280848776716"
      ]
     },
     "execution_count": 48,
     "metadata": {},
     "output_type": "execute_result"
    }
   ],
   "source": [
    "SSE = np.sum((y_pred - y)**2)\n",
    "SSE"
   ]
  },
  {
   "cell_type": "code",
   "execution_count": 49,
   "id": "6c55e621-a9f1-4177-856b-67ac7f94943b",
   "metadata": {},
   "outputs": [
    {
     "data": {
      "text/plain": [
       "0.3369268563519997"
      ]
     },
     "execution_count": 49,
     "metadata": {},
     "output_type": "execute_result"
    }
   ],
   "source": [
    "# Baseline estimator should always use training data, it's just a like model!\n",
    "# Not test dataset\n",
    "SST = np.sum((y - np.mean(df['Price']))**2)\n",
    "SST"
   ]
  },
  {
   "cell_type": "code",
   "execution_count": 50,
   "id": "6fc80c9f-108d-4c5a-88e5-fd5d835db210",
   "metadata": {},
   "outputs": [
    {
     "data": {
      "text/plain": [
       "0.7944277602631777"
      ]
     },
     "execution_count": 50,
     "metadata": {},
     "output_type": "execute_result"
    }
   ],
   "source": [
    "1-(SSE/SST)"
   ]
  },
  {
   "cell_type": "markdown",
   "id": "70d3d225-e525-408f-aefa-8b1f0b8a0e2f",
   "metadata": {},
   "source": [
    "Never use test data to make model choices, it defeats the purpose"
   ]
  },
  {
   "cell_type": "markdown",
   "id": "eba19a2c-9f68-4f6f-81c9-5804ab47cad1",
   "metadata": {},
   "source": [
    "# Logistic Regression\n",
    "Classification"
   ]
  },
  {
   "cell_type": "code",
   "execution_count": 51,
   "id": "8431588d-8c4f-4b04-98bd-41f5183ed58d",
   "metadata": {},
   "outputs": [],
   "source": [
    "import pandas as pd\n",
    "import numpy as np"
   ]
  },
  {
   "cell_type": "code",
   "execution_count": 52,
   "id": "fa8097a2-2b30-42e3-9e84-1ce4f06829f9",
   "metadata": {},
   "outputs": [],
   "source": [
    "df = pd.read_csv(\"https://raw.githubusercontent.com/amandeep0/IS451/main/data/Quality.csv\")"
   ]
  },
  {
   "cell_type": "code",
   "execution_count": 53,
   "id": "5c94fbf7-6757-4d23-8de0-9265bbaf7a3d",
   "metadata": {},
   "outputs": [
    {
     "data": {
      "text/html": [
       "<div>\n",
       "<style scoped>\n",
       "    .dataframe tbody tr th:only-of-type {\n",
       "        vertical-align: middle;\n",
       "    }\n",
       "\n",
       "    .dataframe tbody tr th {\n",
       "        vertical-align: top;\n",
       "    }\n",
       "\n",
       "    .dataframe thead th {\n",
       "        text-align: right;\n",
       "    }\n",
       "</style>\n",
       "<table border=\"1\" class=\"dataframe\">\n",
       "  <thead>\n",
       "    <tr style=\"text-align: right;\">\n",
       "      <th></th>\n",
       "      <th>MemberID</th>\n",
       "      <th>ERVisits</th>\n",
       "      <th>OfficeVisits</th>\n",
       "      <th>Narcotics</th>\n",
       "      <th>ProviderCount</th>\n",
       "      <th>NumberClaims</th>\n",
       "      <th>StartedOnCombination</th>\n",
       "      <th>PoorCare</th>\n",
       "    </tr>\n",
       "  </thead>\n",
       "  <tbody>\n",
       "    <tr>\n",
       "      <th>0</th>\n",
       "      <td>1</td>\n",
       "      <td>0</td>\n",
       "      <td>18</td>\n",
       "      <td>1</td>\n",
       "      <td>21</td>\n",
       "      <td>93</td>\n",
       "      <td>False</td>\n",
       "      <td>0</td>\n",
       "    </tr>\n",
       "    <tr>\n",
       "      <th>1</th>\n",
       "      <td>2</td>\n",
       "      <td>1</td>\n",
       "      <td>6</td>\n",
       "      <td>1</td>\n",
       "      <td>27</td>\n",
       "      <td>19</td>\n",
       "      <td>False</td>\n",
       "      <td>0</td>\n",
       "    </tr>\n",
       "    <tr>\n",
       "      <th>2</th>\n",
       "      <td>3</td>\n",
       "      <td>0</td>\n",
       "      <td>5</td>\n",
       "      <td>3</td>\n",
       "      <td>16</td>\n",
       "      <td>27</td>\n",
       "      <td>False</td>\n",
       "      <td>0</td>\n",
       "    </tr>\n",
       "    <tr>\n",
       "      <th>3</th>\n",
       "      <td>4</td>\n",
       "      <td>1</td>\n",
       "      <td>19</td>\n",
       "      <td>0</td>\n",
       "      <td>14</td>\n",
       "      <td>59</td>\n",
       "      <td>False</td>\n",
       "      <td>0</td>\n",
       "    </tr>\n",
       "    <tr>\n",
       "      <th>4</th>\n",
       "      <td>5</td>\n",
       "      <td>2</td>\n",
       "      <td>19</td>\n",
       "      <td>3</td>\n",
       "      <td>24</td>\n",
       "      <td>51</td>\n",
       "      <td>False</td>\n",
       "      <td>0</td>\n",
       "    </tr>\n",
       "  </tbody>\n",
       "</table>\n",
       "</div>"
      ],
      "text/plain": [
       "   MemberID  ERVisits  OfficeVisits  Narcotics  ProviderCount  NumberClaims  \\\n",
       "0         1         0            18          1             21            93   \n",
       "1         2         1             6          1             27            19   \n",
       "2         3         0             5          3             16            27   \n",
       "3         4         1            19          0             14            59   \n",
       "4         5         2            19          3             24            51   \n",
       "\n",
       "   StartedOnCombination  PoorCare  \n",
       "0                 False         0  \n",
       "1                 False         0  \n",
       "2                 False         0  \n",
       "3                 False         0  \n",
       "4                 False         0  "
      ]
     },
     "execution_count": 53,
     "metadata": {},
     "output_type": "execute_result"
    }
   ],
   "source": [
    "df.head()"
   ]
  },
  {
   "cell_type": "code",
   "execution_count": 54,
   "id": "ebcb2475-2d4f-44da-80ff-1070bdae55af",
   "metadata": {},
   "outputs": [],
   "source": [
    "from sklearn.model_selection import train_test_split"
   ]
  },
  {
   "cell_type": "code",
   "execution_count": 55,
   "id": "84f0d2ed-92ee-4042-a25b-068bb21f550e",
   "metadata": {},
   "outputs": [],
   "source": [
    "df_train, df_test = train_test_split(df, test_size=0.25, random_state=42)"
   ]
  },
  {
   "cell_type": "code",
   "execution_count": 56,
   "id": "11757349-fddd-45d0-867f-64f624a44b1f",
   "metadata": {},
   "outputs": [
    {
     "data": {
      "text/plain": [
       "0.25190839694656486"
      ]
     },
     "execution_count": 56,
     "metadata": {},
     "output_type": "execute_result"
    }
   ],
   "source": [
    "df_test.shape[0]/df.shape[0]"
   ]
  },
  {
   "cell_type": "code",
   "execution_count": 57,
   "id": "1cf9845e-2877-49c4-9b39-5b67fdf1416b",
   "metadata": {},
   "outputs": [],
   "source": [
    "import statsmodels.formula.api as smf"
   ]
  },
  {
   "cell_type": "code",
   "execution_count": 58,
   "id": "f0084392-9dfa-437c-9f47-2a2b39e98eb4",
   "metadata": {},
   "outputs": [
    {
     "name": "stdout",
     "output_type": "stream",
     "text": [
      "Optimization terminated successfully.\n",
      "         Current function value: 0.551637\n",
      "         Iterations 5\n"
     ]
    },
    {
     "data": {
      "text/html": [
       "<table class=\"simpletable\">\n",
       "<caption>Logit Regression Results</caption>\n",
       "<tr>\n",
       "  <th>Dep. Variable:</th>       <td>PoorCare</td>     <th>  No. Observations:  </th>  <td>    98</td> \n",
       "</tr>\n",
       "<tr>\n",
       "  <th>Model:</th>                 <td>Logit</td>      <th>  Df Residuals:      </th>  <td>    96</td> \n",
       "</tr>\n",
       "<tr>\n",
       "  <th>Method:</th>                 <td>MLE</td>       <th>  Df Model:          </th>  <td>     1</td> \n",
       "</tr>\n",
       "<tr>\n",
       "  <th>Date:</th>            <td>Sat, 21 Oct 2023</td> <th>  Pseudo R-squ.:     </th>  <td>0.02859</td>\n",
       "</tr>\n",
       "<tr>\n",
       "  <th>Time:</th>                <td>09:55:23</td>     <th>  Log-Likelihood:    </th> <td> -54.060</td>\n",
       "</tr>\n",
       "<tr>\n",
       "  <th>converged:</th>             <td>True</td>       <th>  LL-Null:           </th> <td> -55.651</td>\n",
       "</tr>\n",
       "<tr>\n",
       "  <th>Covariance Type:</th>     <td>nonrobust</td>    <th>  LLR p-value:       </th>  <td>0.07446</td>\n",
       "</tr>\n",
       "</table>\n",
       "<table class=\"simpletable\">\n",
       "<tr>\n",
       "      <td></td>         <th>coef</th>     <th>std err</th>      <th>z</th>      <th>P>|z|</th>  <th>[0.025</th>    <th>0.975]</th>  \n",
       "</tr>\n",
       "<tr>\n",
       "  <th>Intercept</th> <td>   -1.3607</td> <td>    0.293</td> <td>   -4.642</td> <td> 0.000</td> <td>   -1.935</td> <td>   -0.786</td>\n",
       "</tr>\n",
       "<tr>\n",
       "  <th>ERVisits</th>  <td>    0.1774</td> <td>    0.099</td> <td>    1.787</td> <td> 0.074</td> <td>   -0.017</td> <td>    0.372</td>\n",
       "</tr>\n",
       "</table>"
      ],
      "text/latex": [
       "\\begin{center}\n",
       "\\begin{tabular}{lclc}\n",
       "\\toprule\n",
       "\\textbf{Dep. Variable:}   &     PoorCare     & \\textbf{  No. Observations:  } &       98    \\\\\n",
       "\\textbf{Model:}           &      Logit       & \\textbf{  Df Residuals:      } &       96    \\\\\n",
       "\\textbf{Method:}          &       MLE        & \\textbf{  Df Model:          } &        1    \\\\\n",
       "\\textbf{Date:}            & Sat, 21 Oct 2023 & \\textbf{  Pseudo R-squ.:     } &  0.02859    \\\\\n",
       "\\textbf{Time:}            &     09:55:23     & \\textbf{  Log-Likelihood:    } &   -54.060   \\\\\n",
       "\\textbf{converged:}       &       True       & \\textbf{  LL-Null:           } &   -55.651   \\\\\n",
       "\\textbf{Covariance Type:} &    nonrobust     & \\textbf{  LLR p-value:       } &  0.07446    \\\\\n",
       "\\bottomrule\n",
       "\\end{tabular}\n",
       "\\begin{tabular}{lcccccc}\n",
       "                   & \\textbf{coef} & \\textbf{std err} & \\textbf{z} & \\textbf{P$> |$z$|$} & \\textbf{[0.025} & \\textbf{0.975]}  \\\\\n",
       "\\midrule\n",
       "\\textbf{Intercept} &      -1.3607  &        0.293     &    -4.642  &         0.000        &       -1.935    &       -0.786     \\\\\n",
       "\\textbf{ERVisits}  &       0.1774  &        0.099     &     1.787  &         0.074        &       -0.017    &        0.372     \\\\\n",
       "\\bottomrule\n",
       "\\end{tabular}\n",
       "%\\caption{Logit Regression Results}\n",
       "\\end{center}"
      ],
      "text/plain": [
       "<class 'statsmodels.iolib.summary.Summary'>\n",
       "\"\"\"\n",
       "                           Logit Regression Results                           \n",
       "==============================================================================\n",
       "Dep. Variable:               PoorCare   No. Observations:                   98\n",
       "Model:                          Logit   Df Residuals:                       96\n",
       "Method:                           MLE   Df Model:                            1\n",
       "Date:                Sat, 21 Oct 2023   Pseudo R-squ.:                 0.02859\n",
       "Time:                        09:55:23   Log-Likelihood:                -54.060\n",
       "converged:                       True   LL-Null:                       -55.651\n",
       "Covariance Type:            nonrobust   LLR p-value:                   0.07446\n",
       "==============================================================================\n",
       "                 coef    std err          z      P>|z|      [0.025      0.975]\n",
       "------------------------------------------------------------------------------\n",
       "Intercept     -1.3607      0.293     -4.642      0.000      -1.935      -0.786\n",
       "ERVisits       0.1774      0.099      1.787      0.074      -0.017       0.372\n",
       "==============================================================================\n",
       "\"\"\""
      ]
     },
     "execution_count": 58,
     "metadata": {},
     "output_type": "execute_result"
    }
   ],
   "source": [
    "logistic_regression = smf.logit(\"PoorCare ~ ERVisits\", df_train)\n",
    "logistic_regression_results = logistic_regression.fit()\n",
    "logistic_regression_results.summary()"
   ]
  },
  {
   "cell_type": "code",
   "execution_count": 59,
   "id": "ee198084-a032-4dc3-a43e-ba15bb4a74f5",
   "metadata": {},
   "outputs": [
    {
     "name": "stdout",
     "output_type": "stream",
     "text": [
      "['MemberID', 'ERVisits', 'OfficeVisits', 'Narcotics', 'ProviderCount', 'NumberClaims', 'StartedOnCombination', 'PoorCare']\n"
     ]
    }
   ],
   "source": [
    "print(list(df.columns))"
   ]
  },
  {
   "cell_type": "code",
   "execution_count": 60,
   "id": "14a0c83d-8268-40d2-a570-f6325e70f621",
   "metadata": {
    "scrolled": true
   },
   "outputs": [],
   "source": [
    "columns = \" + \".join(['ERVisits', 'OfficeVisits', 'Narcotics', 'ProviderCount', 'NumberClaims', 'StartedOnCombination'])"
   ]
  },
  {
   "cell_type": "code",
   "execution_count": 61,
   "id": "04546afc-dad7-46cd-92db-db294f6ee209",
   "metadata": {},
   "outputs": [
    {
     "name": "stdout",
     "output_type": "stream",
     "text": [
      "Optimization terminated successfully.\n",
      "         Current function value: 0.403369\n",
      "         Iterations 7\n"
     ]
    },
    {
     "data": {
      "text/html": [
       "<table class=\"simpletable\">\n",
       "<caption>Logit Regression Results</caption>\n",
       "<tr>\n",
       "  <th>Dep. Variable:</th>       <td>PoorCare</td>     <th>  No. Observations:  </th>  <td>    98</td>  \n",
       "</tr>\n",
       "<tr>\n",
       "  <th>Model:</th>                 <td>Logit</td>      <th>  Df Residuals:      </th>  <td>    91</td>  \n",
       "</tr>\n",
       "<tr>\n",
       "  <th>Method:</th>                 <td>MLE</td>       <th>  Df Model:          </th>  <td>     6</td>  \n",
       "</tr>\n",
       "<tr>\n",
       "  <th>Date:</th>            <td>Sat, 21 Oct 2023</td> <th>  Pseudo R-squ.:     </th>  <td>0.2897</td>  \n",
       "</tr>\n",
       "<tr>\n",
       "  <th>Time:</th>                <td>09:55:23</td>     <th>  Log-Likelihood:    </th> <td> -39.530</td> \n",
       "</tr>\n",
       "<tr>\n",
       "  <th>converged:</th>             <td>True</td>       <th>  LL-Null:           </th> <td> -55.651</td> \n",
       "</tr>\n",
       "<tr>\n",
       "  <th>Covariance Type:</th>     <td>nonrobust</td>    <th>  LLR p-value:       </th> <td>1.466e-05</td>\n",
       "</tr>\n",
       "</table>\n",
       "<table class=\"simpletable\">\n",
       "<tr>\n",
       "                <td></td>                  <th>coef</th>     <th>std err</th>      <th>z</th>      <th>P>|z|</th>  <th>[0.025</th>    <th>0.975]</th>  \n",
       "</tr>\n",
       "<tr>\n",
       "  <th>Intercept</th>                    <td>   -3.5278</td> <td>    0.862</td> <td>   -4.091</td> <td> 0.000</td> <td>   -5.218</td> <td>   -1.838</td>\n",
       "</tr>\n",
       "<tr>\n",
       "  <th>StartedOnCombination[T.True]</th> <td>    2.1307</td> <td>    1.343</td> <td>    1.586</td> <td> 0.113</td> <td>   -0.502</td> <td>    4.763</td>\n",
       "</tr>\n",
       "<tr>\n",
       "  <th>ERVisits</th>                     <td>    0.0235</td> <td>    0.145</td> <td>    0.162</td> <td> 0.871</td> <td>   -0.261</td> <td>    0.308</td>\n",
       "</tr>\n",
       "<tr>\n",
       "  <th>OfficeVisits</th>                 <td>    0.0697</td> <td>    0.039</td> <td>    1.766</td> <td> 0.077</td> <td>   -0.008</td> <td>    0.147</td>\n",
       "</tr>\n",
       "<tr>\n",
       "  <th>Narcotics</th>                    <td>    0.1098</td> <td>    0.037</td> <td>    2.978</td> <td> 0.003</td> <td>    0.038</td> <td>    0.182</td>\n",
       "</tr>\n",
       "<tr>\n",
       "  <th>ProviderCount</th>                <td>    0.0370</td> <td>    0.030</td> <td>    1.254</td> <td> 0.210</td> <td>   -0.021</td> <td>    0.095</td>\n",
       "</tr>\n",
       "<tr>\n",
       "  <th>NumberClaims</th>                 <td>   -0.0055</td> <td>    0.014</td> <td>   -0.391</td> <td> 0.696</td> <td>   -0.033</td> <td>    0.022</td>\n",
       "</tr>\n",
       "</table>"
      ],
      "text/latex": [
       "\\begin{center}\n",
       "\\begin{tabular}{lclc}\n",
       "\\toprule\n",
       "\\textbf{Dep. Variable:}               &     PoorCare     & \\textbf{  No. Observations:  } &       98    \\\\\n",
       "\\textbf{Model:}                       &      Logit       & \\textbf{  Df Residuals:      } &       91    \\\\\n",
       "\\textbf{Method:}                      &       MLE        & \\textbf{  Df Model:          } &        6    \\\\\n",
       "\\textbf{Date:}                        & Sat, 21 Oct 2023 & \\textbf{  Pseudo R-squ.:     } &   0.2897    \\\\\n",
       "\\textbf{Time:}                        &     09:55:23     & \\textbf{  Log-Likelihood:    } &   -39.530   \\\\\n",
       "\\textbf{converged:}                   &       True       & \\textbf{  LL-Null:           } &   -55.651   \\\\\n",
       "\\textbf{Covariance Type:}             &    nonrobust     & \\textbf{  LLR p-value:       } & 1.466e-05   \\\\\n",
       "\\bottomrule\n",
       "\\end{tabular}\n",
       "\\begin{tabular}{lcccccc}\n",
       "                                      & \\textbf{coef} & \\textbf{std err} & \\textbf{z} & \\textbf{P$> |$z$|$} & \\textbf{[0.025} & \\textbf{0.975]}  \\\\\n",
       "\\midrule\n",
       "\\textbf{Intercept}                    &      -3.5278  &        0.862     &    -4.091  &         0.000        &       -5.218    &       -1.838     \\\\\n",
       "\\textbf{StartedOnCombination[T.True]} &       2.1307  &        1.343     &     1.586  &         0.113        &       -0.502    &        4.763     \\\\\n",
       "\\textbf{ERVisits}                     &       0.0235  &        0.145     &     0.162  &         0.871        &       -0.261    &        0.308     \\\\\n",
       "\\textbf{OfficeVisits}                 &       0.0697  &        0.039     &     1.766  &         0.077        &       -0.008    &        0.147     \\\\\n",
       "\\textbf{Narcotics}                    &       0.1098  &        0.037     &     2.978  &         0.003        &        0.038    &        0.182     \\\\\n",
       "\\textbf{ProviderCount}                &       0.0370  &        0.030     &     1.254  &         0.210        &       -0.021    &        0.095     \\\\\n",
       "\\textbf{NumberClaims}                 &      -0.0055  &        0.014     &    -0.391  &         0.696        &       -0.033    &        0.022     \\\\\n",
       "\\bottomrule\n",
       "\\end{tabular}\n",
       "%\\caption{Logit Regression Results}\n",
       "\\end{center}"
      ],
      "text/plain": [
       "<class 'statsmodels.iolib.summary.Summary'>\n",
       "\"\"\"\n",
       "                           Logit Regression Results                           \n",
       "==============================================================================\n",
       "Dep. Variable:               PoorCare   No. Observations:                   98\n",
       "Model:                          Logit   Df Residuals:                       91\n",
       "Method:                           MLE   Df Model:                            6\n",
       "Date:                Sat, 21 Oct 2023   Pseudo R-squ.:                  0.2897\n",
       "Time:                        09:55:23   Log-Likelihood:                -39.530\n",
       "converged:                       True   LL-Null:                       -55.651\n",
       "Covariance Type:            nonrobust   LLR p-value:                 1.466e-05\n",
       "================================================================================================\n",
       "                                   coef    std err          z      P>|z|      [0.025      0.975]\n",
       "------------------------------------------------------------------------------------------------\n",
       "Intercept                       -3.5278      0.862     -4.091      0.000      -5.218      -1.838\n",
       "StartedOnCombination[T.True]     2.1307      1.343      1.586      0.113      -0.502       4.763\n",
       "ERVisits                         0.0235      0.145      0.162      0.871      -0.261       0.308\n",
       "OfficeVisits                     0.0697      0.039      1.766      0.077      -0.008       0.147\n",
       "Narcotics                        0.1098      0.037      2.978      0.003       0.038       0.182\n",
       "ProviderCount                    0.0370      0.030      1.254      0.210      -0.021       0.095\n",
       "NumberClaims                    -0.0055      0.014     -0.391      0.696      -0.033       0.022\n",
       "================================================================================================\n",
       "\"\"\""
      ]
     },
     "execution_count": 61,
     "metadata": {},
     "output_type": "execute_result"
    }
   ],
   "source": [
    "logistic_regression = smf.logit(f\"PoorCare ~ {columns}\", df_train)\n",
    "logistic_regression_results = logistic_regression.fit()\n",
    "logistic_regression_results.summary()"
   ]
  },
  {
   "cell_type": "code",
   "execution_count": 62,
   "id": "cd1fcc4e-4665-4477-a04e-aaca71cc27bf",
   "metadata": {
    "scrolled": true
   },
   "outputs": [],
   "source": [
    "y_pred = logistic_regression_results.predict(df_train) > 0.5"
   ]
  },
  {
   "cell_type": "markdown",
   "id": "bcd38715-102a-4727-95f6-fdd3c4c6344d",
   "metadata": {},
   "source": [
    "## Model evaluation\n",
    "Confusion Matrix,\n",
    "\n",
    "accuracy = (True Positive + True Negative) / #observations\n",
    "\n",
    "type1, type2 errors. Difference in cost of errors\n",
    "Some errors costs more, for example, loss of life vs just label error"
   ]
  },
  {
   "cell_type": "code",
   "execution_count": 63,
   "id": "e2003916-8d1d-41af-a9e8-89592e309b62",
   "metadata": {},
   "outputs": [],
   "source": [
    "y = df_train['PoorCare']"
   ]
  },
  {
   "cell_type": "code",
   "execution_count": 64,
   "id": "e8198834-b1f7-4d40-8388-7bb53a5f18f7",
   "metadata": {},
   "outputs": [
    {
     "data": {
      "text/html": [
       "<div>\n",
       "<style scoped>\n",
       "    .dataframe tbody tr th:only-of-type {\n",
       "        vertical-align: middle;\n",
       "    }\n",
       "\n",
       "    .dataframe tbody tr th {\n",
       "        vertical-align: top;\n",
       "    }\n",
       "\n",
       "    .dataframe thead th {\n",
       "        text-align: right;\n",
       "    }\n",
       "</style>\n",
       "<table border=\"1\" class=\"dataframe\">\n",
       "  <thead>\n",
       "    <tr style=\"text-align: right;\">\n",
       "      <th>col_0</th>\n",
       "      <th>False</th>\n",
       "      <th>True</th>\n",
       "    </tr>\n",
       "    <tr>\n",
       "      <th>PoorCare</th>\n",
       "      <th></th>\n",
       "      <th></th>\n",
       "    </tr>\n",
       "  </thead>\n",
       "  <tbody>\n",
       "    <tr>\n",
       "      <th>0</th>\n",
       "      <td>69</td>\n",
       "      <td>4</td>\n",
       "    </tr>\n",
       "    <tr>\n",
       "      <th>1</th>\n",
       "      <td>12</td>\n",
       "      <td>13</td>\n",
       "    </tr>\n",
       "  </tbody>\n",
       "</table>\n",
       "</div>"
      ],
      "text/plain": [
       "col_0     False  True \n",
       "PoorCare              \n",
       "0            69      4\n",
       "1            12     13"
      ]
     },
     "execution_count": 64,
     "metadata": {},
     "output_type": "execute_result"
    }
   ],
   "source": [
    "# confusion matrix\n",
    "# false positive, false negative..etc\n",
    "pd.crosstab(y, y_pred)"
   ]
  },
  {
   "cell_type": "code",
   "execution_count": 65,
   "id": "15affbfc-fd85-465b-aa96-f4c48673122d",
   "metadata": {},
   "outputs": [
    {
     "data": {
      "text/plain": [
       "0.8367346938775511"
      ]
     },
     "execution_count": 65,
     "metadata": {},
     "output_type": "execute_result"
    }
   ],
   "source": [
    "82/98"
   ]
  },
  {
   "cell_type": "code",
   "execution_count": 66,
   "id": "20355a8c-9297-4be3-aaa9-cf08aa8c6db6",
   "metadata": {},
   "outputs": [
    {
     "data": {
      "text/plain": [
       "PoorCare\n",
       "0    73\n",
       "1    25\n",
       "Name: count, dtype: int64"
      ]
     },
     "execution_count": 66,
     "metadata": {},
     "output_type": "execute_result"
    }
   ],
   "source": [
    "df_train['PoorCare'].value_counts()"
   ]
  },
  {
   "cell_type": "code",
   "execution_count": 67,
   "id": "5119efe3-0c4d-4ae0-a260-25397ec18381",
   "metadata": {},
   "outputs": [
    {
     "data": {
      "text/plain": [
       "0.7448979591836735"
      ]
     },
     "execution_count": 67,
     "metadata": {},
     "output_type": "execute_result"
    }
   ],
   "source": [
    "73/(25 + 73)"
   ]
  },
  {
   "cell_type": "code",
   "execution_count": 68,
   "id": "24b0a0ac-3e2b-4466-b6c6-22a59614303f",
   "metadata": {},
   "outputs": [],
   "source": [
    "# Try dropping some features to see if the model improves"
   ]
  },
  {
   "cell_type": "markdown",
   "id": "7db2a98d-2759-4511-838c-ce51eb50b6cc",
   "metadata": {},
   "source": [
    "# Preision and recall\n",
    "threhold value for logitstic regression\n",
    "\n",
    "- Precision: column calculations, whenever the mdoels says 1, I want it to be right\n",
    "- Recall: row calculations, out of all the positive cases, how many can I actually predict. Most coverage, ok for false identification.\n",
    "\n",
    "**F1 score**: harmonic mean of precision and recall, to have a nice balance of both precision and recall"
   ]
  },
  {
   "cell_type": "code",
   "execution_count": 69,
   "id": "b73817b0-c6e5-4c17-a607-8ea2f1d2b2c3",
   "metadata": {},
   "outputs": [
    {
     "data": {
      "text/plain": [
       "0.7647058823529411"
      ]
     },
     "execution_count": 69,
     "metadata": {},
     "output_type": "execute_result"
    }
   ],
   "source": [
    "# precision -- the proportion the model is right when it predicts one\n",
    "precision = 13/(13 + 4)\n",
    "precision"
   ]
  },
  {
   "cell_type": "code",
   "execution_count": 70,
   "id": "d4751c7d-d4b3-44ec-a199-d8912d8192cc",
   "metadata": {},
   "outputs": [
    {
     "data": {
      "text/plain": [
       "0.52"
      ]
     },
     "execution_count": 70,
     "metadata": {},
     "output_type": "execute_result"
    }
   ],
   "source": [
    "# recall\n",
    "recall = 13/(13+12)\n",
    "recall"
   ]
  },
  {
   "cell_type": "code",
   "execution_count": 71,
   "id": "cdfc3514-c82b-4c35-9adf-dab6796e9e8c",
   "metadata": {},
   "outputs": [
    {
     "data": {
      "text/plain": [
       "0.6190476190476191"
      ]
     },
     "execution_count": 71,
     "metadata": {},
     "output_type": "execute_result"
    }
   ],
   "source": [
    "f1_score = 2*precision*recall/(precision + recall)\n",
    "f1_score"
   ]
  },
  {
   "cell_type": "markdown",
   "id": "77832899-4958-4d92-8a48-8bba6f8e78c0",
   "metadata": {},
   "source": [
    "## Baseline model for logistic regression\n",
    "\n",
    "Just pick a outcome for all predictions, \n",
    "`{0: 73, 1: 25}` -> then just always predict 0"
   ]
  },
  {
   "cell_type": "markdown",
   "id": "56793611-f676-4fd7-a29b-ab566170d458",
   "metadata": {},
   "source": [
    "| Outcome/Prediction | 0 | 1 |\n",
    "| --- | --- | --- |\n",
    "| 0 | 73 | 0 |\n",
    "| 1 | 25 | 0 |"
   ]
  },
  {
   "cell_type": "code",
   "execution_count": 72,
   "id": "f939a5ac-4a81-4c2e-961e-54133f46f855",
   "metadata": {},
   "outputs": [],
   "source": [
    "recall = 0 / 25\n",
    "precision = 0 # or undefined, 0/0\n",
    "f1 = 0"
   ]
  },
  {
   "cell_type": "code",
   "execution_count": 74,
   "id": "4d3608c4-43f0-4b3d-b2e3-7b6e6a31aaab",
   "metadata": {},
   "outputs": [],
   "source": [
    "from sklearn.metrics import roc_auc_score\n",
    "auc = roc_auc_score(df_test['PoorCare'], logistic_regression_results.predict(df_test))"
   ]
  },
  {
   "cell_type": "code",
   "execution_count": 75,
   "id": "9ce47a1b-98ea-4851-b2f9-8e66422a8a38",
   "metadata": {},
   "outputs": [],
   "source": [
    "# auc/roc for baseline model?"
   ]
  },
  {
   "cell_type": "code",
   "execution_count": null,
   "id": "5419db1a-51af-44f9-a9b6-dcad0dd3fb6a",
   "metadata": {},
   "outputs": [],
   "source": []
  }
 ],
 "metadata": {
  "kernelspec": {
   "display_name": "Python 3 (ipykernel)",
   "language": "python",
   "name": "python3"
  },
  "language_info": {
   "codemirror_mode": {
    "name": "ipython",
    "version": 3
   },
   "file_extension": ".py",
   "mimetype": "text/x-python",
   "name": "python",
   "nbconvert_exporter": "python",
   "pygments_lexer": "ipython3",
   "version": "3.11.4"
  }
 },
 "nbformat": 4,
 "nbformat_minor": 5
}
